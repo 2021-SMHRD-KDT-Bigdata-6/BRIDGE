{
 "cells": [
  {
   "cell_type": "markdown",
   "id": "cb9307c8",
   "metadata": {},
   "source": [
    "### 프로그램 설치 "
   ]
  },
  {
   "cell_type": "code",
   "execution_count": 1,
   "id": "a679cca0",
   "metadata": {
    "scrolled": true
   },
   "outputs": [
    {
     "name": "stdout",
     "output_type": "stream",
     "text": [
      "Requirement already satisfied: konlpy in c:\\users\\smhrd\\anaconda3\\envs\\deep\\lib\\site-packages (0.6.0)\n",
      "Requirement already satisfied: numpy>=1.6 in c:\\users\\smhrd\\anaconda3\\envs\\deep\\lib\\site-packages (from konlpy) (1.19.2)\n",
      "Requirement already satisfied: JPype1>=0.7.0 in c:\\users\\smhrd\\anaconda3\\envs\\deep\\lib\\site-packages (from konlpy) (1.3.0)\n",
      "Requirement already satisfied: lxml>=4.1.0 in c:\\users\\smhrd\\anaconda3\\envs\\deep\\lib\\site-packages (from konlpy) (4.7.1)\n",
      "Requirement already satisfied: typing-extensions in c:\\users\\smhrd\\anaconda3\\envs\\deep\\lib\\site-packages (from JPype1>=0.7.0->konlpy) (3.10.0.2)\n"
     ]
    }
   ],
   "source": [
    "! pip install konlpy"
   ]
  },
  {
   "cell_type": "code",
   "execution_count": 2,
   "id": "3bd10270",
   "metadata": {
    "scrolled": false
   },
   "outputs": [
    {
     "name": "stdout",
     "output_type": "stream",
     "text": [
      "Requirement already satisfied: moviepy in c:\\users\\smhrd\\anaconda3\\envs\\deep\\lib\\site-packages (1.0.3)\n",
      "Requirement already satisfied: imageio-ffmpeg>=0.2.0 in c:\\users\\smhrd\\anaconda3\\envs\\deep\\lib\\site-packages (from moviepy) (0.4.5)\n",
      "Requirement already satisfied: imageio<3.0,>=2.5 in c:\\users\\smhrd\\anaconda3\\envs\\deep\\lib\\site-packages (from moviepy) (2.13.5)\n",
      "Requirement already satisfied: numpy in c:\\users\\smhrd\\anaconda3\\envs\\deep\\lib\\site-packages (from moviepy) (1.19.2)\n",
      "Requirement already satisfied: requests<3.0,>=2.8.1 in c:\\users\\smhrd\\anaconda3\\envs\\deep\\lib\\site-packages (from moviepy) (2.26.0)\n",
      "Requirement already satisfied: proglog<=1.0.0 in c:\\users\\smhrd\\anaconda3\\envs\\deep\\lib\\site-packages (from moviepy) (0.1.9)\n",
      "Requirement already satisfied: tqdm<5.0,>=4.11.2 in c:\\users\\smhrd\\anaconda3\\envs\\deep\\lib\\site-packages (from moviepy) (4.62.3)\n",
      "Requirement already satisfied: decorator<5.0,>=4.0.2 in c:\\users\\smhrd\\anaconda3\\envs\\deep\\lib\\site-packages (from moviepy) (4.4.2)\n",
      "Requirement already satisfied: pillow>=8.3.2 in c:\\users\\smhrd\\anaconda3\\envs\\deep\\lib\\site-packages (from imageio<3.0,>=2.5->moviepy) (8.4.0)\n",
      "Requirement already satisfied: urllib3<1.27,>=1.21.1 in c:\\users\\smhrd\\anaconda3\\envs\\deep\\lib\\site-packages (from requests<3.0,>=2.8.1->moviepy) (1.26.7)\n",
      "Requirement already satisfied: certifi>=2017.4.17 in c:\\users\\smhrd\\anaconda3\\envs\\deep\\lib\\site-packages (from requests<3.0,>=2.8.1->moviepy) (2021.5.30)\n",
      "Requirement already satisfied: charset-normalizer~=2.0.0 in c:\\users\\smhrd\\anaconda3\\envs\\deep\\lib\\site-packages (from requests<3.0,>=2.8.1->moviepy) (2.0.4)\n",
      "Requirement already satisfied: idna<4,>=2.5 in c:\\users\\smhrd\\anaconda3\\envs\\deep\\lib\\site-packages (from requests<3.0,>=2.8.1->moviepy) (3.3)\n",
      "Requirement already satisfied: colorama in c:\\users\\smhrd\\anaconda3\\envs\\deep\\lib\\site-packages (from tqdm<5.0,>=4.11.2->moviepy) (0.4.4)\n"
     ]
    }
   ],
   "source": [
    "! pip install moviepy"
   ]
  },
  {
   "cell_type": "code",
   "execution_count": 3,
   "id": "fcacdf6e",
   "metadata": {},
   "outputs": [
    {
     "name": "stdout",
     "output_type": "stream",
     "text": [
      "Requirement already satisfied: pytube in c:\\users\\smhrd\\anaconda3\\envs\\deep\\lib\\site-packages (11.0.2)\n"
     ]
    }
   ],
   "source": [
    "!pip install pytube"
   ]
  },
  {
   "cell_type": "code",
   "execution_count": 4,
   "id": "e11df299",
   "metadata": {},
   "outputs": [
    {
     "name": "stdout",
     "output_type": "stream",
     "text": [
      "Requirement already satisfied: kss in c:\\users\\smhrd\\anaconda3\\envs\\deep\\lib\\site-packages (3.3.1.1)\n",
      "Requirement already satisfied: emoji in c:\\users\\smhrd\\anaconda3\\envs\\deep\\lib\\site-packages (from kss) (1.6.1)\n"
     ]
    }
   ],
   "source": [
    "!pip install kss"
   ]
  },
  {
   "cell_type": "code",
   "execution_count": 5,
   "id": "43fc1947",
   "metadata": {},
   "outputs": [
    {
     "name": "stdout",
     "output_type": "stream",
     "text": [
      "Requirement already satisfied: speechRecognition in c:\\users\\smhrd\\anaconda3\\envs\\deep\\lib\\site-packages (3.8.1)\n"
     ]
    }
   ],
   "source": [
    "!pip install speechRecognition"
   ]
  },
  {
   "cell_type": "code",
   "execution_count": 6,
   "id": "d72bd05a",
   "metadata": {},
   "outputs": [
    {
     "name": "stdout",
     "output_type": "stream",
     "text": [
      "Requirement already satisfied: moviepy in c:\\users\\smhrd\\anaconda3\\envs\\deep\\lib\\site-packages (1.0.3)\n",
      "Requirement already satisfied: tqdm<5.0,>=4.11.2 in c:\\users\\smhrd\\anaconda3\\envs\\deep\\lib\\site-packages (from moviepy) (4.62.3)\n",
      "Requirement already satisfied: requests<3.0,>=2.8.1 in c:\\users\\smhrd\\anaconda3\\envs\\deep\\lib\\site-packages (from moviepy) (2.26.0)\n",
      "Requirement already satisfied: decorator<5.0,>=4.0.2 in c:\\users\\smhrd\\anaconda3\\envs\\deep\\lib\\site-packages (from moviepy) (4.4.2)\n",
      "Requirement already satisfied: proglog<=1.0.0 in c:\\users\\smhrd\\anaconda3\\envs\\deep\\lib\\site-packages (from moviepy) (0.1.9)\n",
      "Requirement already satisfied: imageio-ffmpeg>=0.2.0 in c:\\users\\smhrd\\anaconda3\\envs\\deep\\lib\\site-packages (from moviepy) (0.4.5)\n",
      "Requirement already satisfied: numpy in c:\\users\\smhrd\\anaconda3\\envs\\deep\\lib\\site-packages (from moviepy) (1.19.2)\n",
      "Requirement already satisfied: imageio<3.0,>=2.5 in c:\\users\\smhrd\\anaconda3\\envs\\deep\\lib\\site-packages (from moviepy) (2.13.5)\n",
      "Requirement already satisfied: pillow>=8.3.2 in c:\\users\\smhrd\\anaconda3\\envs\\deep\\lib\\site-packages (from imageio<3.0,>=2.5->moviepy) (8.4.0)\n",
      "Requirement already satisfied: charset-normalizer~=2.0.0 in c:\\users\\smhrd\\anaconda3\\envs\\deep\\lib\\site-packages (from requests<3.0,>=2.8.1->moviepy) (2.0.4)\n",
      "Requirement already satisfied: urllib3<1.27,>=1.21.1 in c:\\users\\smhrd\\anaconda3\\envs\\deep\\lib\\site-packages (from requests<3.0,>=2.8.1->moviepy) (1.26.7)\n",
      "Requirement already satisfied: idna<4,>=2.5 in c:\\users\\smhrd\\anaconda3\\envs\\deep\\lib\\site-packages (from requests<3.0,>=2.8.1->moviepy) (3.3)\n",
      "Requirement already satisfied: certifi>=2017.4.17 in c:\\users\\smhrd\\anaconda3\\envs\\deep\\lib\\site-packages (from requests<3.0,>=2.8.1->moviepy) (2021.5.30)\n",
      "Requirement already satisfied: colorama in c:\\users\\smhrd\\anaconda3\\envs\\deep\\lib\\site-packages (from tqdm<5.0,>=4.11.2->moviepy) (0.4.4)\n"
     ]
    }
   ],
   "source": [
    "!pip install moviepy"
   ]
  },
  {
   "cell_type": "code",
   "execution_count": 7,
   "id": "6256c5c9",
   "metadata": {
    "scrolled": true
   },
   "outputs": [
    {
     "name": "stdout",
     "output_type": "stream",
     "text": [
      "Requirement already satisfied: konlpy in c:\\users\\smhrd\\anaconda3\\envs\\deep\\lib\\site-packages (0.6.0)\n",
      "Requirement already satisfied: numpy>=1.6 in c:\\users\\smhrd\\anaconda3\\envs\\deep\\lib\\site-packages (from konlpy) (1.19.2)\n",
      "Requirement already satisfied: lxml>=4.1.0 in c:\\users\\smhrd\\anaconda3\\envs\\deep\\lib\\site-packages (from konlpy) (4.7.1)\n",
      "Requirement already satisfied: JPype1>=0.7.0 in c:\\users\\smhrd\\anaconda3\\envs\\deep\\lib\\site-packages (from konlpy) (1.3.0)\n",
      "Requirement already satisfied: typing-extensions in c:\\users\\smhrd\\anaconda3\\envs\\deep\\lib\\site-packages (from JPype1>=0.7.0->konlpy) (3.10.0.2)\n"
     ]
    }
   ],
   "source": [
    "!pip install konlpy"
   ]
  },
  {
   "cell_type": "code",
   "execution_count": 8,
   "id": "e715e6de",
   "metadata": {},
   "outputs": [
    {
     "name": "stdout",
     "output_type": "stream",
     "text": [
      "Requirement already satisfied: regex in c:\\users\\smhrd\\anaconda3\\envs\\deep\\lib\\site-packages (2021.11.10)\n"
     ]
    }
   ],
   "source": [
    "!pip install regex"
   ]
  },
  {
   "cell_type": "markdown",
   "id": "9d144e7d",
   "metadata": {},
   "source": [
    "### 라이브러리 및 모델 불러오기 "
   ]
  },
  {
   "cell_type": "code",
   "execution_count": 9,
   "id": "11b13cae",
   "metadata": {},
   "outputs": [],
   "source": [
    "from flask import Flask ,render_template\n",
    "from flask import request, redirect\n",
    "from konlpy.tag import Kkma,Okt, Twitter, Komoran # 형태소 분석 라이브러리\n",
    "from moviepy.editor import * # 영상을 오디오 파일로 변환\n",
    "from moviepy.editor import VideoFileClip, concatenate_videoclips\n",
    "import moviepy.editor as mp\n",
    "from pytube import YouTube # 유튜브 영상 다운로드 또는 불러오기\n",
    "import pytube\n",
    "import tqdm as tq\n",
    "\n",
    "import kss # 텍스트 문장으로 바꾸는 라이브러리\n",
    "import speech_recognition as sr # 오디오 파일 또는 음성을 텍스트로 변환\n",
    "import pandas as pd\n",
    "# BOW = BAG of WORD : 단어가방, 단어모음, 단어사전\n",
    "from sklearn.feature_extraction.text import CountVectorizer\n",
    "# 위 도구는 빈도수 기반 벡터화 도구"
   ]
  },
  {
   "cell_type": "markdown",
   "id": "7b0a986a",
   "metadata": {},
   "source": [
    "### 알고리즘 시작"
   ]
  },
  {
   "cell_type": "markdown",
   "id": "90197811",
   "metadata": {},
   "source": [
    "### 영상 -> 음성 -> 텍스트추출"
   ]
  },
  {
   "cell_type": "code",
   "execution_count": 10,
   "id": "e1b3bfa5",
   "metadata": {},
   "outputs": [
    {
     "name": "stdout",
     "output_type": "stream",
     "text": [
      "다운로드 받을 유튜브 영상 링크 : https://www.youtube.com/watch?v=lZi3k_GzfCk\n"
     ]
    }
   ],
   "source": [
    "# https://www.youtube.com/watch?v=kFnHWpGs-18  :: 스마트 인재 개발원\n",
    "# https://www.youtube.com/watch?v=lZi3k_GzfCk  :: 서강대 2:25 ~ 4: 10\n",
    "youtube=input('다운로드 받을 유튜브 영상 링크 : ')\n",
    "yt = pytube.YouTube(youtube)\n",
    "title = yt.title"
   ]
  },
  {
   "cell_type": "code",
   "execution_count": 11,
   "id": "aa317f1e",
   "metadata": {
    "scrolled": false
   },
   "outputs": [
    {
     "name": "stderr",
     "output_type": "stream",
     "text": [
      "[Korean Sentence Splitter]: C:\\Users\\smhrd\\anaconda3\\envs\\deep\\lib\\site-packages\\ipykernel_launcher.py:3: DeprecationWarning: Call to deprecated function all (This object can be treated as a list, all() is useless).\n",
      "  This is separate from the ipykernel package so we can avoid doing imports until\n",
      "\n"
     ]
    },
    {
     "name": "stdout",
     "output_type": "stream",
     "text": [
      "MoviePy - Writing audio in download/audio5.wav\n"
     ]
    },
    {
     "name": "stderr",
     "output_type": "stream",
     "text": [
      "                                                                                                                       "
     ]
    },
    {
     "name": "stdout",
     "output_type": "stream",
     "text": [
      "MoviePy - Done.\n"
     ]
    },
    {
     "name": "stderr",
     "output_type": "stream",
     "text": [
      "\r"
     ]
    }
   ],
   "source": [
    "# 영상 다운로드 경로\n",
    "\n",
    "stream = yt.streams.all()[0]\n",
    "stream.download(output_path='C:/Users/smhrd/Desktop/project/download') \n",
    "\n",
    "# 영상 오디오 파일로 변환 \n",
    "clip = mp.VideoFileClip(\"download/python 02.3gpp\")\n",
    "newsound = clip.subclip(\"00:02:25\",\"00:04:10\") # 시간지정된 오디오 저장 \n",
    "newsound.audio.write_audiofile(\"download/audio5.wav\",16000,2,2000,'pcm_s16le')\n",
    "\n",
    "# 오디오 파일 로드\n",
    "filename = \"download/audio5.wav\"\n",
    "\n",
    "# 오디오 파일 텍스트 추출\n",
    "text = []\n",
    "r = sr.Recognizer()\n",
    "with sr.AudioFile(filename) as source:\n",
    "    audio_data = r.record(source)\n",
    "    text = r.recognize_google(audio_data,language='ko-KR')\n",
    "    # print(text)"
   ]
  },
  {
   "cell_type": "markdown",
   "id": "dc792749",
   "metadata": {},
   "source": [
    "### 텍스트 형태소 분리"
   ]
  },
  {
   "cell_type": "code",
   "execution_count": 12,
   "id": "6e4eacf2",
   "metadata": {},
   "outputs": [],
   "source": [
    "# 형태소 구분하는 함수\n",
    "# - 사용해야할 품사가 생각보다 많음 ( komoran 기준 ) \n",
    "#   - 명사 NN -> 일반명사 NNG // 고유명사 NNP // 의존명사 NNB\n",
    "\n",
    "def lemmatize(word):\n",
    "    morphtags = Komoran().pos(word)\n",
    "    if morphtags[0][1] == 'NNG' or morphtags[0][1] == 'NNP': \n",
    "        return morphtags[0][0]"
   ]
  },
  {
   "cell_type": "code",
   "execution_count": 13,
   "id": "4a7d9491",
   "metadata": {},
   "outputs": [
    {
     "name": "stderr",
     "output_type": "stream",
     "text": [
      "[Korean Sentence Splitter]: Initializing Pynori...\n"
     ]
    },
    {
     "data": {
      "text/plain": [
       "['저를 먼저 알아보겠습니다',\n",
       " '컴퓨터는 키보드 마우스 와 같은 입력장치와 모니터 프린터와 같은 출력장치가 있습니다',\n",
       " '컴퓨터 내부의 주요 부분으로는 중앙처리장치와 메모리가 있습니다',\n",
       " '중앙처리장치는 CPU라고 하는데 프로그램 수행에 있어서']"
      ]
     },
     "execution_count": 13,
     "metadata": {},
     "output_type": "execute_result"
    }
   ],
   "source": [
    "# kss 활용 텍스트 문장 화\n",
    "word_list = kss.split_sentences(text)\n",
    "word_list"
   ]
  },
  {
   "cell_type": "code",
   "execution_count": 14,
   "id": "0ce487c3",
   "metadata": {},
   "outputs": [],
   "source": [
    "# 명사만 가져오기 위한 삭제\n",
    "okt = Okt()\n",
    "headline = []\n",
    "stopwords = [ '의','가','이','은','들','는','좀','잘','걍','과','도','를','으로','자','에','와','등','으로도']\n",
    "for sentence in word_list:\n",
    "    temp = []\n",
    "    # morphs() : 형태소 단위로 토큰화\n",
    "    # stem = True : 형태소에서 어간을 추출\n",
    "    temp = okt.morphs(sentence, stem = True)\n",
    "    temp = [word for word in temp if not word in stopwords]\n",
    "    headline.append(temp)"
   ]
  },
  {
   "cell_type": "code",
   "execution_count": 15,
   "id": "19dd59cb",
   "metadata": {},
   "outputs": [
    {
     "name": "stderr",
     "output_type": "stream",
     "text": [
      "[Korean Sentence Splitter]: C:\\Users\\smhrd\\anaconda3\\envs\\deep\\lib\\site-packages\\konlpy\\tag\\_okt.py:17: UserWarning: \"Twitter\" has changed to \"Okt\" since KoNLPy v0.4.5.\n",
      "  warn('\"Twitter\" has changed to \"Okt\" since KoNLPy v0.4.5.')\n",
      "\n"
     ]
    }
   ],
   "source": [
    "# konlpy 트위터 이용 형태소 분류\n",
    "twitter = Twitter()\n",
    "sentences_tag = []\n",
    "for word in headline:\n",
    "    for i in word :\n",
    "        morph = twitter.pos(i)\n",
    "        sentences_tag.append(morph)\n",
    "# print(sentences_tag)"
   ]
  },
  {
   "cell_type": "code",
   "execution_count": 16,
   "id": "a11d9d33",
   "metadata": {},
   "outputs": [
    {
     "name": "stdout",
     "output_type": "stream",
     "text": [
      "['저', '먼저', '알아보다', '컴퓨터', '키', '보드', '마우스', '오다', '같다', '입력장치', '모니터', '프린터', '같다', '출력장치', '있다', '컴퓨터', '내부', '주요', '부분', '중앙', '처리장치', '메모리', '있다', '중앙', '처리장치', '하다', '프로그램', '수행', '있다']\n",
      "['저', '먼저', '알아보다', '컴퓨터', '키', '보드', '마우스', '오다', '같다', '입력장치', '모니터', '프린터', '같다', '출력장치', '있다', '컴퓨터', '내부', '주요', '부분', '중앙', '처리장치', '메모리', '있다', '중앙', '처리장치', '하다', '프로그램', '수행', '있다']\n",
      "['저', '먼저', '알아보다', '컴퓨터', '키', '보드', '마우스', '오다', '같다', '입력장치', '모니터', '프린터', '같다', '출력장치', '있다', '컴퓨터', '내부', '주요', '부분', '중앙', '처리장치', '메모리', '있다', '중앙', '처리장치', '하다', '프로그램', '수행', '있다']\n",
      "['저', '먼저', '알아보다', '컴퓨터', '키', '보드', '마우스', '오다', '같다', '입력장치', '모니터', '프린터', '같다', '출력장치', '있다', '컴퓨터', '내부', '주요', '부분', '중앙', '처리장치', '메모리', '있다', '중앙', '처리장치', '하다', '프로그램', '수행', '있다']\n",
      "['저', '먼저', '알아보다', '컴퓨터', '키', '보드', '마우스', '오다', '같다', '입력', '모니터', '프린터', '같다', '출력장치', '있다', '컴퓨터', '내부', '주요', '부분', '중앙', '처리장치', '메모리', '있다', '중앙', '처리장치', '하다', '프로그램', '수행', '있다']\n",
      "['저', '먼저', '알아보다', '컴퓨터', '키', '보드', '마우스', '오다', '같다', '입력', '모니터', '프린터', '같다', '출력장치', '있다', '컴퓨터', '내부', '주요', '부분', '중앙', '처리장치', '메모리', '있다', '중앙', '처리장치', '하다', '프로그램', '수행', '있다']\n",
      "['저', '먼저', '알아보다', '컴퓨터', '키', '보드', '마우스', '오다', '같다', '입력', '모니터', '프린터', '같다', '출력장치', '있다', '컴퓨터', '내부', '주요', '부분', '중앙', '처리장치', '메모리', '있다', '중앙', '처리장치', '하다', '프로그램', '수행', '있다']\n",
      "['저', '먼저', '알아보다', '컴퓨터', '키', '보드', '마우스', '오다', '같다', '입력', '모니터', '프린터', '같다', '출력', '있다', '컴퓨터', '내부', '주요', '부분', '중앙', '처리장치', '메모리', '있다', '중앙', '처리장치', '하다', '프로그램', '수행', '있다']\n",
      "['저', '먼저', '알아보다', '컴퓨터', '키', '보드', '마우스', '오다', '같다', '입력', '모니터', '프린터', '같다', '출력', '있다', '컴퓨터', '내부', '주요', '부분', '중앙', '처리장치', '메모리', '있다', '중앙', '처리장치', '하다', '프로그램', '수행', '있다']\n",
      "['저', '먼저', '알아보다', '컴퓨터', '키', '보드', '마우스', '오다', '같다', '입력', '모니터', '프린터', '같다', '출력', '있다', '컴퓨터', '내부', '주요', '부분', '중앙', '처리장치', '메모리', '있다', '중앙', '처리장치', '하다', '프로그램', '수행', '있다']\n",
      "['저', '먼저', '알아보다', '컴퓨터', '키', '보드', '마우스', '오다', '같다', '입력', '모니터', '프린터', '같다', '출력', '있다', '컴퓨터', '내부', '주요', '부분', '중앙', '처리장치', '메모리', '있다', '중앙', '처리장치', '하다', '프로그램', '수행', '있다']\n",
      "['저', '먼저', '알아보다', '컴퓨터', '키', '보드', '마우스', '오다', '같다', '입력', '모니터', '프린터', '같다', '출력', '있다', '컴퓨터', '내부', '주요', '부분', '중앙', '처리장치', '메모리', '있다', '중앙', '처리장치', '하다', '프로그램', '수행', '있다']\n",
      "['저', '먼저', '알아보다', '컴퓨터', '키', '보드', '마우스', '오다', '같다', '입력', '모니터', '프린터', '같다', '출력', '있다', '컴퓨터', '내부', '주요', '부분', '중앙', '처리', '메모리', '있다', '중앙', '처리장치', '하다', '프로그램', '수행', '있다']\n",
      "['저', '먼저', '알아보다', '컴퓨터', '키', '보드', '마우스', '오다', '같다', '입력', '모니터', '프린터', '같다', '출력', '있다', '컴퓨터', '내부', '주요', '부분', '중앙', '처리', '메모리', '있다', '중앙', '처리장치', '하다', '프로그램', '수행', '있다']\n",
      "['저', '먼저', '알아보다', '컴퓨터', '키', '보드', '마우스', '오다', '같다', '입력', '모니터', '프린터', '같다', '출력', '있다', '컴퓨터', '내부', '주요', '부분', '중앙', '처리', '메모리', '있다', '중앙', '처리장치', '하다', '프로그램', '수행', '있다']\n",
      "['저', '먼저', '알아보다', '컴퓨터', '키', '보드', '마우스', '오다', '같다', '입력', '모니터', '프린터', '같다', '출력', '있다', '컴퓨터', '내부', '주요', '부분', '중앙', '처리', '메모리', '있다', '중앙', '처리', '하다', '프로그램', '수행', '있다']\n",
      "['저', '먼저', '알아보다', '컴퓨터', '키', '보드', '마우스', '오다', '같다', '입력', '모니터', '프린터', '같다', '출력', '있다', '컴퓨터', '내부', '주요', '부분', '중앙', '처리', '메모리', '있다', '중앙', '처리', '하다', '프로그램', '수행', '있다']\n",
      "['저', '먼저', '알아보다', '컴퓨터', '키', '보드', '마우스', '오다', '같다', '입력', '모니터', '프린터', '같다', '출력', '있다', '컴퓨터', '내부', '주요', '부분', '중앙', '처리', '메모리', '있다', '중앙', '처리', '하다', '프로그램', '수행', '있다']\n",
      "['저', '먼저', '알아보다', '컴퓨터', '키', '보드', '마우스', '오다', '같다', '입력', '모니터', '프린터', '같다', '출력', '있다', '컴퓨터', '내부', '주요', '부분', '중앙', '처리', '메모리', '있다', '중앙', '처리', '하다', '프로그램', '수행', '있다']\n"
     ]
    }
   ],
   "source": [
    "#  형태소 분류\n",
    "noun_adj_list=[]\n",
    "for i1 in sentences_tag:\n",
    "    for word, tag in i1:\n",
    "        if tag in ['Noun','Verb','Number','Adjective','Adverb']:\n",
    "            noun_adj_list.append(word)\n",
    "# print(noun_adj_list)\n",
    "# 형태소 분류\n",
    "for i in range(len(noun_adj_list)):\n",
    "    #print(lemmatize(noun_adj_list[i]))\n",
    "    if lemmatize(noun_adj_list[i]) != None :\n",
    "        noun_adj_list[i] = lemmatize(noun_adj_list[i])\n",
    "        print(noun_adj_list)\n",
    "\n",
    "arr_list = noun_adj_list\n",
    "print(arr_list)"
   ]
  },
  {
   "cell_type": "markdown",
   "id": "a8b0d49b",
   "metadata": {},
   "source": [
    "### 단어-영상 합치기"
   ]
  },
  {
   "cell_type": "code",
   "execution_count": 17,
   "id": "be81bbd4",
   "metadata": {
    "collapsed": true
   },
   "outputs": [
    {
     "name": "stdout",
     "output_type": "stream",
     "text": [
      "skip\n",
      "last []\n",
      "skip\n",
      "last []\n",
      "skip\n",
      "last []\n",
      "skip\n",
      "last []\n",
      "skip\n",
      "last []\n",
      "skip\n",
      "last []\n",
      "skip\n",
      "last []\n",
      "skip\n",
      "last []\n",
      "skip\n",
      "last []\n",
      "skip\n",
      "last []\n",
      "skip\n",
      "last []\n",
      "skip\n",
      "last []\n",
      "skip\n",
      "last []\n",
      "skip\n",
      "last []\n",
      "skip\n",
      "last []\n",
      "skip\n",
      "last []\n",
      "skip\n",
      "last []\n",
      "skip\n",
      "last []\n",
      "skip\n",
      "last []\n",
      "skip\n",
      "last []\n",
      "skip\n",
      "last []\n",
      "skip\n",
      "last []\n",
      "skip\n",
      "last []\n",
      "skip\n",
      "last []\n",
      "skip\n",
      "last []\n",
      "skip\n",
      "last []\n",
      "skip\n",
      "last []\n",
      "skip\n",
      "last []\n",
      "skip\n",
      "last []\n"
     ]
    },
    {
     "ename": "ValueError",
     "evalue": "max() arg is an empty sequence",
     "output_type": "error",
     "traceback": [
      "\u001b[1;31m---------------------------------------------------------------------------\u001b[0m",
      "\u001b[1;31mValueError\u001b[0m                                Traceback (most recent call last)",
      "\u001b[1;32m<ipython-input-17-de1cefa7e62b>\u001b[0m in \u001b[0;36m<module>\u001b[1;34m\u001b[0m\n\u001b[0;32m     13\u001b[0m \u001b[1;33m\u001b[0m\u001b[0m\n\u001b[0;32m     14\u001b[0m     \u001b[0mprint\u001b[0m\u001b[1;33m(\u001b[0m\u001b[1;34m\"last\"\u001b[0m\u001b[1;33m,\u001b[0m \u001b[0mclips\u001b[0m\u001b[1;33m)\u001b[0m\u001b[1;33m\u001b[0m\u001b[1;33m\u001b[0m\u001b[0m\n\u001b[1;32m---> 15\u001b[1;33m \u001b[0mfinal_clip\u001b[0m \u001b[1;33m=\u001b[0m \u001b[0mconcatenate_videoclips\u001b[0m\u001b[1;33m(\u001b[0m\u001b[0mclips\u001b[0m\u001b[1;33m,\u001b[0m \u001b[0mmethod\u001b[0m\u001b[1;33m=\u001b[0m\u001b[1;34m'compose'\u001b[0m\u001b[1;33m)\u001b[0m \u001b[1;31m# concat함수를 이용해 비디오를 합치기\u001b[0m\u001b[1;33m\u001b[0m\u001b[1;33m\u001b[0m\u001b[0m\n\u001b[0m\u001b[0;32m     16\u001b[0m \u001b[0mfinal_clip\u001b[0m\u001b[1;33m.\u001b[0m\u001b[0mwrite_videofile\u001b[0m\u001b[1;33m(\u001b[0m\u001b[1;34m\"Success/sua5.mp4\"\u001b[0m\u001b[1;33m)\u001b[0m\u001b[1;33m\u001b[0m\u001b[1;33m\u001b[0m\u001b[0m\n",
      "\u001b[1;32m~\\anaconda3\\envs\\deep\\lib\\site-packages\\moviepy\\video\\compositing\\concatenate.py\u001b[0m in \u001b[0;36mconcatenate_videoclips\u001b[1;34m(clips, method, transition, bg_color, ismask, padding)\u001b[0m\n\u001b[0;32m     73\u001b[0m     \u001b[0msizes\u001b[0m \u001b[1;33m=\u001b[0m \u001b[1;33m[\u001b[0m\u001b[0mv\u001b[0m\u001b[1;33m.\u001b[0m\u001b[0msize\u001b[0m \u001b[1;32mfor\u001b[0m \u001b[0mv\u001b[0m \u001b[1;32min\u001b[0m \u001b[0mclips\u001b[0m\u001b[1;33m]\u001b[0m\u001b[1;33m\u001b[0m\u001b[1;33m\u001b[0m\u001b[0m\n\u001b[0;32m     74\u001b[0m \u001b[1;33m\u001b[0m\u001b[0m\n\u001b[1;32m---> 75\u001b[1;33m     \u001b[0mw\u001b[0m \u001b[1;33m=\u001b[0m \u001b[0mmax\u001b[0m\u001b[1;33m(\u001b[0m\u001b[0mr\u001b[0m\u001b[1;33m[\u001b[0m\u001b[1;36m0\u001b[0m\u001b[1;33m]\u001b[0m \u001b[1;32mfor\u001b[0m \u001b[0mr\u001b[0m \u001b[1;32min\u001b[0m \u001b[0msizes\u001b[0m\u001b[1;33m)\u001b[0m\u001b[1;33m\u001b[0m\u001b[1;33m\u001b[0m\u001b[0m\n\u001b[0m\u001b[0;32m     76\u001b[0m     \u001b[0mh\u001b[0m \u001b[1;33m=\u001b[0m \u001b[0mmax\u001b[0m\u001b[1;33m(\u001b[0m\u001b[0mr\u001b[0m\u001b[1;33m[\u001b[0m\u001b[1;36m1\u001b[0m\u001b[1;33m]\u001b[0m \u001b[1;32mfor\u001b[0m \u001b[0mr\u001b[0m \u001b[1;32min\u001b[0m \u001b[0msizes\u001b[0m\u001b[1;33m)\u001b[0m\u001b[1;33m\u001b[0m\u001b[1;33m\u001b[0m\u001b[0m\n\u001b[0;32m     77\u001b[0m \u001b[1;33m\u001b[0m\u001b[0m\n",
      "\u001b[1;31mValueError\u001b[0m: max() arg is an empty sequence"
     ]
    }
   ],
   "source": [
    "# 영상 합치기\n",
    "    \n",
    "clips = []\n",
    "for i in range(len(arr_list)):\n",
    "    # print(\"*****\", clips)\n",
    "    try:\n",
    "        # arr_list = ['보고', '강의', '목표', '대해', '이야기', '하다', '다음', '수업', '부터', '본격', '적', '파이썬', '언어', '대한', '학습', '시작', '하다', '수', '있다', '파이썬', '언어', '설치', '하다', '과정', '보다', '교육', '점점', '중요하다', '이유', '소프트웨어', '미래', '사회', '요구', '하다', '용량', '속초', '발전']\n",
    "        mov = VideoFileClip(\"Data_Deep/30개영상/\"+arr_list[i]+\".mp4\")\n",
    "        clips.append(mov)\n",
    "        print(\"try\")\n",
    "    except:\n",
    "        print('skip')\n",
    "        \n",
    "    print(\"last\", clips)\n",
    "final_clip = concatenate_videoclips(clips, method='compose') # concat함수를 이용해 비디오를 합치기\n",
    "final_clip.write_videofile(\"Success/sua5.mp4\")"
   ]
  },
  {
   "cell_type": "markdown",
   "id": "b39bccac",
   "metadata": {},
   "source": [
    "## 테스트"
   ]
  },
  {
   "cell_type": "code",
   "execution_count": null,
   "id": "b5e3890a",
   "metadata": {},
   "outputs": [],
   "source": [
    "# 영상 다운로드 경로\n",
    "stream = yt.streams.all()[0]\n",
    "stream.download(output_path='C:/Users/smhrd/Desktop/project/download') \n",
    "\n",
    "# 영상 오디오 파일로 변환 \n",
    "clip = mp.VideoFileClip(\"download/python 02.3gpp\")\n",
    "newsound = clip.subclip(\"00:01:10\",\"00:01:30\") # 20 sec\n",
    "newsound.audio.write_audiofile(\"download/audio5.wav\",16000,2,2000,'pcm_s16le')\n",
    "\n",
    "# 오디오 파일 로드\n",
    "filename = \"download/audio5.wav\""
   ]
  },
  {
   "cell_type": "code",
   "execution_count": null,
   "id": "da691d39",
   "metadata": {},
   "outputs": [],
   "source": [
    "# 오디오 파일 텍스트 추출\n",
    "text = []\n",
    "r = sr.Recognizer()\n",
    "with sr.AudioFile(filename) as source:\n",
    "    audio_data = r.record(source)\n",
    "    text = r.recognize_google(audio_data,language='ko-KR')\n",
    "    # print(text)\n",
    "\n",
    "# kss 활용 텍스트 문장 화\n",
    "word_list = kss.split_sentences(text)\n",
    "word_list"
   ]
  },
  {
   "cell_type": "markdown",
   "id": "ec365793",
   "metadata": {},
   "source": [
    "## 영상 합치기 테스트"
   ]
  },
  {
   "cell_type": "code",
   "execution_count": 82,
   "id": "eeb9f55a",
   "metadata": {
    "scrolled": true
   },
   "outputs": [
    {
     "data": {
      "text/html": [
       "<div>\n",
       "<style scoped>\n",
       "    .dataframe tbody tr th:only-of-type {\n",
       "        vertical-align: middle;\n",
       "    }\n",
       "\n",
       "    .dataframe tbody tr th {\n",
       "        vertical-align: top;\n",
       "    }\n",
       "\n",
       "    .dataframe thead th {\n",
       "        text-align: right;\n",
       "    }\n",
       "</style>\n",
       "<table border=\"1\" class=\"dataframe\">\n",
       "  <thead>\n",
       "    <tr style=\"text-align: right;\">\n",
       "      <th></th>\n",
       "      <th>num</th>\n",
       "      <th>word</th>\n",
       "      <th>videoname</th>\n",
       "      <th>att</th>\n",
       "      <th>start</th>\n",
       "      <th>end</th>\n",
       "      <th>filename</th>\n",
       "    </tr>\n",
       "  </thead>\n",
       "  <tbody>\n",
       "    <tr>\n",
       "      <th>0</th>\n",
       "      <td>1</td>\n",
       "      <td>고민</td>\n",
       "      <td>NIA_SL_WORD0001_REAL01_F.mp4</td>\n",
       "      <td>NaN</td>\n",
       "      <td>1.743</td>\n",
       "      <td>3.103</td>\n",
       "      <td>NIA_SL_WORD0001_REAL01_F_morpheme.json</td>\n",
       "    </tr>\n",
       "    <tr>\n",
       "      <th>1</th>\n",
       "      <td>2</td>\n",
       "      <td>뻔뻔</td>\n",
       "      <td>NIA_SL_WORD0002_REAL01_F.mp4</td>\n",
       "      <td>NaN</td>\n",
       "      <td>1.831</td>\n",
       "      <td>3.361</td>\n",
       "      <td>NIA_SL_WORD0002_REAL01_F_morpheme.json</td>\n",
       "    </tr>\n",
       "    <tr>\n",
       "      <th>2</th>\n",
       "      <td>3</td>\n",
       "      <td>수어</td>\n",
       "      <td>NIA_SL_WORD0003_REAL01_F.mp4</td>\n",
       "      <td>NaN</td>\n",
       "      <td>1.052</td>\n",
       "      <td>2.138</td>\n",
       "      <td>NIA_SL_WORD0003_REAL01_F_morpheme.json</td>\n",
       "    </tr>\n",
       "  </tbody>\n",
       "</table>\n",
       "</div>"
      ],
      "text/plain": [
       "   num word                     videoname  att  start    end  \\\n",
       "0    1   고민  NIA_SL_WORD0001_REAL01_F.mp4  NaN  1.743  3.103   \n",
       "1    2   뻔뻔  NIA_SL_WORD0002_REAL01_F.mp4  NaN  1.831  3.361   \n",
       "2    3   수어  NIA_SL_WORD0003_REAL01_F.mp4  NaN  1.052  2.138   \n",
       "\n",
       "                                 filename  \n",
       "0  NIA_SL_WORD0001_REAL01_F_morpheme.json  \n",
       "1  NIA_SL_WORD0002_REAL01_F_morpheme.json  \n",
       "2  NIA_SL_WORD0003_REAL01_F_morpheme.json  "
      ]
     },
     "execution_count": 82,
     "metadata": {},
     "output_type": "execute_result"
    }
   ],
   "source": [
    "# 라벨 + 영상 합치기\n",
    "import  pandas as pd \n",
    "data = pd.read_csv('word_data.csv',encoding='euc-kr')\n",
    "data[:3]"
   ]
  },
  {
   "cell_type": "code",
   "execution_count": 83,
   "id": "705e9dfc",
   "metadata": {},
   "outputs": [
    {
     "data": {
      "text/plain": [
       "['고민', '뻔뻔', '수어']"
      ]
     },
     "execution_count": 83,
     "metadata": {},
     "output_type": "execute_result"
    }
   ],
   "source": [
    "word_list = ['고민','뻔뻔','수어']\n",
    "word_list"
   ]
  },
  {
   "cell_type": "code",
   "execution_count": 87,
   "id": "40da2eaa",
   "metadata": {},
   "outputs": [
    {
     "data": {
      "text/plain": [
       "0    NIA_SL_WORD0001_REAL01_F.mp4\n",
       "1    NIA_SL_WORD0002_REAL01_F.mp4\n",
       "Name: videoname, dtype: object"
      ]
     },
     "execution_count": 87,
     "metadata": {},
     "output_type": "execute_result"
    }
   ],
   "source": [
    "data.iloc[:2,2]"
   ]
  },
  {
   "cell_type": "markdown",
   "id": "0b762e18",
   "metadata": {},
   "source": [
    "### 리스트에 담긴 단어 + 영상찾기 + 시작점 끝점 자르고 병합"
   ]
  },
  {
   "cell_type": "code",
   "execution_count": 88,
   "id": "88f84e8a",
   "metadata": {},
   "outputs": [],
   "source": [
    "from moviepy.editor import VideoFileClip, concatenate_videoclips"
   ]
  },
  {
   "cell_type": "code",
   "execution_count": 115,
   "id": "6cd3cd02",
   "metadata": {},
   "outputs": [
    {
     "name": "stdout",
     "output_type": "stream",
     "text": [
      "NIA_SL_WORD0001_REAL01_F.mp4\n",
      "NIA_SL_WORD0002_REAL01_F.mp4\n",
      "NIA_SL_WORD0003_REAL01_F.mp4\n",
      "Moviepy - Building video Success/sua5.mp4.\n",
      "Moviepy - Writing video Success/sua5.mp4\n",
      "\n"
     ]
    },
    {
     "name": "stderr",
     "output_type": "stream",
     "text": [
      "                                                                                                                       \r"
     ]
    },
    {
     "name": "stdout",
     "output_type": "stream",
     "text": [
      "Moviepy - Done !\n",
      "Moviepy - video ready Success/sua5.mp4\n"
     ]
    }
   ],
   "source": [
    "clips = []\n",
    "#  리스트 속 단어 == DataFrame 속 단어, 영상 찾아서 clips 에 추가 \n",
    "for i in range(len(word_list)): # \n",
    "    for j in range(len(word_list)):\n",
    "        if (word_list[i]==data.iloc[j,1]) :\n",
    "            print(data.iloc[j,2]) # videoname 으로 영상 찾음 + 시작점,끝점 자름 \n",
    "            mov = VideoFileClip('3000_word/'+data.iloc[j,2]).subclip(data.iloc[j,4],data.iloc[j,5])\n",
    "            clips.append(mov) \n",
    "        else :\n",
    "            pass\n",
    "# concat함수를 이용해 비디오를 합치기    \n",
    "final_clip = concatenate_videoclips(clips, method='compose')\n",
    "final_clip.write_videofile(\"Success/sua.mp4\")   "
   ]
  },
  {
   "cell_type": "markdown",
   "id": "104bf791",
   "metadata": {},
   "source": [
    "## 문장 데이터 테스트"
   ]
  },
  {
   "cell_type": "code",
   "execution_count": 29,
   "id": "eb8e0b3c",
   "metadata": {},
   "outputs": [],
   "source": [
    "text = ['d','d']"
   ]
  },
  {
   "cell_type": "code",
   "execution_count": 39,
   "id": "b920f324",
   "metadata": {},
   "outputs": [],
   "source": [
    "word_list = ['입력된 데이터는 숫자인 경우에는 수치 데이터라고 하고 문자인 경우에는 문자데이터라고 합니다','다시 말하면 입력된 데이터는 각자 데이터 유형을 갖게 되는데 이것을 자료형이라고 합니다', \n",
    "    '프로그램을 수행하면 그 프로그램이 다루는 모든 데이터는 메모리 위에 저장이 되어야 한다고 했습니다', \n",
    "    '그때 어떤 식으로 저장이 되는지에 대해서 설명하겠습니다', \n",
    "    '메모리에 저장된 자료를 우리는 객체라고 부릅니다', \n",
    "    '모든 객체는 자료형을 갖는데 수치자료의 경우에는 정수냐 실수냐로 구분을하고, 또는 문자 데이터가 올라가기도 합니다', \n",
    "    '그래서 각각의 대해서 우리가 자료를 갖다 붙이게 되고 모든 개체는 고유 ID를 갖도록 합니다', \n",
    "    '그리고 객체를 저장하는 공간을 변수라고 하고 그 공간에 이름을 변수명이라고 해서 그 이름을 통해서 객체 접근 할 수가 있는데 간단하게 아래에서 객체와 변수를 이 해해 보도록 하겠습니다', \n",
    "    '데이터를 만들려면 즉 객체를 만들려면 파이썬에서는 어떤 이름은 하고서 값을 적어 줘야 합니다', \n",
    "    '예를 들어서 에이는 100이라고 한다면 에이가 백을 갖도록 한다는 뜻입니다', \n",
    "    '는(=)은 같다는 뜻이 아니라 100이라는 값을 에이에 넣겠다는 이야기가 됩니다', \n",
    "    '그래서 100이라는 값이 에이에 들어가게됩니다', \n",
    "    '이때 내부적으로 일어나는 일은 100이라는 데이터가 생겨서 그 100이라는 데이터를 객체라고 부르고요 객체가 저장이 되는데 저장이 되는 공간을 우리는 변수라고 부릅니다', \n",
    "    '그리고이 빨간 박스가 바로 변수가 되는데요 이 변수에는 이름이 하나씩 가서 붙게 됩니다', \n",
    "    '그 이름을 변수명이라고 하고 여기에서는 변수명이 A가 붙은 예제입니다', \n",
    "    '그래서 다음부터 이 100이라는 데이터를 가지고 오려면 변수명 에이를 이용을 해서 가져오게 됩니다']"
   ]
  },
  {
   "cell_type": "code",
   "execution_count": 40,
   "id": "d6523f07",
   "metadata": {},
   "outputs": [],
   "source": [
    "# 형태소 구분하는 함수\n",
    "# - 사용해야할 품사가 생각보다 많음 ( komoran 기준 ) \n",
    "#   - 명사 NN -> 일반명사 NNG // 고유명사 NNP // 의존명사 NNB\n",
    "\n",
    "def lemmatize(word):\n",
    "    morphtags = Komoran().pos(word)\n",
    "    if morphtags[0][1] == 'NNG' or morphtags[0][1] == 'NNP': \n",
    "        return morphtags[0][0]"
   ]
  },
  {
   "cell_type": "code",
   "execution_count": 41,
   "id": "69100074",
   "metadata": {},
   "outputs": [],
   "source": [
    "# 명사만 가져오기 위한 삭제\n",
    "okt = Okt()\n",
    "headline = []\n",
    "stopwords = [ '된','의','가','이','은','들','는','좀','잘','걍','과','도','를','으로','자','에','와','등','으로도']\n",
    "for sentence in word_list:\n",
    "    temp = []\n",
    "    # morphs() : 형태소 단위로 토큰화\n",
    "    # stem = True : 형태소에서 어간을 추출\n",
    "    temp = okt.morphs(sentence, stem = True)\n",
    "    temp = [word for word in temp if not word in stopwords]\n",
    "    headline.append(temp)"
   ]
  },
  {
   "cell_type": "code",
   "execution_count": 42,
   "id": "bdd33c81",
   "metadata": {},
   "outputs": [
    {
     "name": "stdout",
     "output_type": "stream",
     "text": [
      "[[('입력', 'Noun')], [('되다', 'Verb')], [('데이터', 'Noun')], [('숫자', 'Noun')], [('인', 'Noun')], [('경우', 'Noun')], [('에는', 'Josa')], [('수치', 'Noun')], [('데이터', 'Noun')], [('라고', 'Josa')], [('하다', 'Verb')], [('문자', 'Noun')], [('인', 'Noun')], [('경우', 'Noun')], [('에는', 'Josa')], [('문자', 'Noun')], [('데이터', 'Noun')], [('라고', 'Josa')], [('하다', 'Verb')], [('다시', 'Noun')], [('말', 'Noun')], [('하다', 'Verb')], [('입력', 'Noun')], [('되다', 'Verb')], [('데이터', 'Noun')], [('각자', 'Noun')], [('데이터', 'Noun')], [('유형', 'Noun')], [('을', 'Josa')], [('갖다', 'Verb')], [('되다', 'Verb')], [('것', 'Noun')], [('을', 'Josa')], [('자료형', 'Noun')], [('이라고', 'Josa')], [('하다', 'Verb')], [('프로그램', 'Noun')], [('을', 'Josa')], [('수행', 'Noun')], [('하다', 'Verb')], [('그', 'Noun')], [('프로그램', 'Noun')], [('다루다', 'Verb')], [('모든', 'Noun')], [('데이터', 'Noun')], [('메모리', 'Noun')], [('위', 'Noun')], [('저장', 'Noun')], [('되어다', 'Verb')], [('하다', 'Verb')], [('하다', 'Verb')], [('그때', 'Noun')], [('어떻다', 'Adjective')], [('식', 'Noun')], [('저장', 'Noun')], [('되다', 'Verb')], [('대해', 'Noun')], [('서', 'Verb')], [('설명', 'Noun')], [('하다', 'Verb')], [('메모리', 'Noun')], [('저장', 'Noun')], [('되다', 'Verb')], [('자료', 'Noun')], [('우리', 'Noun')], [('객체', 'Noun')], [('라고', 'Josa')], [('부르다', 'Verb')], [('모든', 'Noun')], [('객체', 'Noun')], [('자료형', 'Noun')], [('을', 'Josa')], [('갖다', 'Verb')], [('수치', 'Noun')], [('자료', 'Noun')], [('경우', 'Noun')], [('에는', 'Josa')], [('정수', 'Noun')], [('냐', 'Josa')], [('실수', 'Noun')], [('냐', 'Josa')], [('로', 'Noun')], [('구분', 'Noun')], [('을', 'Josa')], [('하다', 'Verb')], [(',', 'Punctuation')], [('또는', 'Adverb')], [('문자', 'Noun')], [('데이터', 'Noun')], [('올라가다', 'Verb')], [('하다', 'Verb')], [('그래서', 'Adverb')], [('각각', 'Noun')], [('대해', 'Noun')], [('서', 'Verb')], [('우리', 'Noun')], [('자료', 'Noun')], [('갖다', 'Verb')], [('붙이', 'Noun')], [('게', 'Noun')], [('되다', 'Verb')], [('모든', 'Noun')], [('개체', 'Noun')], [('고유', 'Noun')], [('ID', 'Alpha')], [('갖다', 'Verb')], [('하다', 'Verb')], [('그리고', 'Conjunction')], [('객체', 'Noun')], [('저장', 'Noun')], [('하다', 'Verb')], [('공간', 'Noun')], [('을', 'Josa')], [('변수', 'Noun')], [('라고', 'Josa')], [('하다', 'Verb')], [('그', 'Noun')], [('공간', 'Noun')], [('이름', 'Noun')], [('을', 'Josa')], [('변수', 'Noun')], [('명', 'Noun')], [('이라고', 'Josa')], [('하다', 'Verb')], [('그', 'Noun')], [('이름', 'Noun')], [('을', 'Josa')], [('통해', 'Noun')], [('서', 'Verb')], [('객체', 'Noun')], [('접근', 'Noun')], [('하다', 'Verb')], [('수가', 'Noun')], [('있다', 'Adjective')], [('간단하다', 'Adjective')], [('아래', 'Noun')], [('에서', 'Josa')], [('객체', 'Noun')], [('변수', 'Noun')], [('해해', 'Noun')], [('보다', 'Verb')], [('하다', 'Verb')], [('데이터', 'Noun')], [('만들다', 'Verb')], [('즉', 'Noun')], [('객체', 'Noun')], [('만들다', 'Verb')], [('파이썬', 'Noun')], [('에서는', 'Josa')], [('어떻다', 'Adjective')], [('이름', 'Noun')], [('하다', 'Verb')], [('값', 'Noun')], [('을', 'Josa')], [('적다', 'Verb')], [('주다', 'Verb')], [('하다', 'Verb')], [('예', 'Noun')], [('들어서다', 'Verb')], [('에이', 'Noun')], [('100', 'Number')], [('이라고', 'Josa')], [('하다', 'Verb')], [('에이', 'Noun')], [('백', 'Noun')], [('을', 'Josa')], [('갖다', 'Verb')], [('한다는', 'Modifier')], [('뜻', 'Noun')], [('이다', 'Josa')], [('늘다', 'Verb')], [('(=)', 'Punctuation')], [('같다', 'Adjective')], [('뜻', 'Noun')], [('아니다', 'Adjective')], [('100', 'Number')], [('이라는', 'Josa')], [('값', 'Noun')], [('을', 'Josa')], [('에이', 'Noun')], [('넣다', 'Verb')], [('이야기', 'Noun')], [('되다', 'Verb')], [('그래서', 'Adverb')], [('100', 'Number')], [('이라는', 'Josa')], [('값', 'Noun')], [('에이', 'Noun')], [('들어가다', 'Verb')], [('되다', 'Verb')], [('때', 'Noun')], [('내', 'Noun')], [('부적', 'Noun')], [('일어나다', 'Verb')], [('일', 'Noun')], [('100', 'Number')], [('이라는', 'Josa')], [('데이터', 'Noun')], [('생기', 'Noun'), ('다', 'Josa')], [('그', 'Noun')], [('100', 'Number')], [('이라는', 'Josa')], [('데이터', 'Noun')], [('객체', 'Noun')], [('라고', 'Josa')], [('부르다', 'Verb')], [('객체', 'Noun')], [('저장', 'Noun')], [('되다', 'Verb')], [('저장', 'Noun')], [('되다', 'Verb')], [('공간', 'Noun')], [('을', 'Josa')], [('우리', 'Noun')], [('변수', 'Noun')], [('라고', 'Josa')], [('부르다', 'Verb')], [('그', 'Determiner'), ('리다', 'Noun')], [('빨갛다', 'Adjective')], [('박스', 'Noun')], [('바로', 'Noun')], [('변수', 'Noun')], [('되다', 'Verb')], [('변수', 'Noun')], [('에는', 'Josa')], [('이름', 'Noun')], [('하나', 'Noun')], [('씩', 'Adverb')], [('가다', 'Verb')], [('붙다', 'Verb')], [('되다', 'Verb')], [('그', 'Noun')], [('이름', 'Noun')], [('을', 'Josa')], [('변수', 'Noun')], [('명', 'Noun')], [('이라고', 'Josa')], [('하다', 'Verb')], [('여기', 'Noun')], [('에서는', 'Josa')], [('변수', 'Noun')], [('명', 'Noun')], [('A', 'Alpha')], [('가다', 'Verb')], [('붙다', 'Verb')], [('예제', 'Noun')], [('이다', 'Josa')], [('그래서', 'Adverb')], [('다음', 'Noun')], [('부터', 'Noun')], [('100', 'Number')], [('이라는', 'Josa')], [('데이터', 'Noun')], [('가지', 'Noun')], [('고', 'Noun')], [('오다', 'Verb')], [('변수', 'Noun')], [('명', 'Noun')], [('에이', 'Noun')], [('이용', 'Noun')], [('을', 'Josa')], [('하다', 'Verb')], [('가져오다', 'Verb')], [('되다', 'Verb')]]\n"
     ]
    }
   ],
   "source": [
    "# konlpy 트위터 이용 형태소 분류\n",
    "twitter = Twitter()\n",
    "sentences_tag = []\n",
    "for word in headline:\n",
    "    for i in word :\n",
    "        morph = twitter.pos(i)\n",
    "        sentences_tag.append(morph)\n",
    "# print(sentences_tag)"
   ]
  },
  {
   "cell_type": "code",
   "execution_count": 43,
   "id": "f077b1b2",
   "metadata": {},
   "outputs": [
    {
     "name": "stdout",
     "output_type": "stream",
     "text": [
      "['입력', '되다', '데이터', '숫자', '인', '경우', '수치', '데이터', '하다', '문자', '인', '경우', '문자', '데이터', '하다', '다시', '말', '하다', '입력', '되다', '데이터', '각자', '데이터', '유형', '갖다', '되다', '것', '자료형', '하다', '프로그램', '수행', '하다', '그', '프로그램', '다루다', '모든', '데이터', '메모리', '위', '저장', '되어다', '하다', '하다', '그때', '어떻다', '식', '저장', '되다', '대해', '서', '설명', '하다', '메모리', '저장', '되다', '자료', '우리', '객체', '부르다', '모든', '객체', '자료형', '갖다', '수치', '자료', '경우', '정수', '실수', '로', '구분', '하다', '또는', '문자', '데이터', '올라가다', '하다', '그래서', '각각', '대해', '서', '우리', '자료', '갖다', '붙이', '게', '되다', '모든', '개체', '고유', '갖다', '하다', '객체', '저장', '하다', '공간', '변수', '하다', '그', '공간', '이름', '변수', '명', '하다', '그', '이름', '통해', '서', '객체', '접근', '하다', '수가', '있다', '간단하다', '아래', '객체', '변수', '해해', '보다', '하다', '데이터', '만들다', '즉', '객체', '만들다', '파이썬', '어떻다', '이름', '하다', '값', '적다', '주다', '하다', '예', '들어서다', '에이', '100', '하다', '에이', '백', '갖다', '뜻', '늘다', '같다', '뜻', '아니다', '100', '값', '에이', '넣다', '이야기', '되다', '그래서', '100', '값', '에이', '들어가다', '되다', '때', '내', '부적', '일어나다', '일', '100', '데이터', '생기', '그', '100', '데이터', '객체', '부르다', '객체', '저장', '되다', '저장', '되다', '공간', '우리', '변수', '부르다', '리다', '빨갛다', '박스', '바로', '변수', '되다', '변수', '이름', '하나', '씩', '가다', '붙다', '되다', '그', '이름', '변수', '명', '하다', '여기', '변수', '명', '가다', '붙다', '예제', '그래서', '다음', '부터', '100', '데이터', '가지', '고', '오다', '변수', '명', '에이', '이용', '하다', '가져오다', '되다']\n",
      "['입력', '되다', '데이터', '숫자', '인', '경우', '수치', '데이터', '하다', '문자', '인', '경우', '문자', '데이터', '하다', '다시', '말', '하다', '입력', '되다', '데이터', '각자', '데이터', '유형', '갖다', '되다', '것', '자료형', '하다', '프로그램', '수행', '하다', '그', '프로그램', '다루다', '모든', '데이터', '메모리', '위', '저장', '되어다', '하다', '하다', '그때', '어떻다', '식', '저장', '되다', '대해', '서', '설명', '하다', '메모리', '저장', '되다', '자료', '우리', '객체', '부르다', '모든', '객체', '자료형', '갖다', '수치', '자료', '경우', '정수', '실수', '로', '구분', '하다', '또는', '문자', '데이터', '올라가다', '하다', '그래서', '각각', '대해', '서', '우리', '자료', '갖다', '붙이', '게', '되다', '모든', '개체', '고유', '갖다', '하다', '객체', '저장', '하다', '공간', '변수', '하다', '그', '공간', '이름', '변수', '명', '하다', '그', '이름', '통해', '서', '객체', '접근', '하다', '수가', '있다', '간단하다', '아래', '객체', '변수', '해해', '보다', '하다', '데이터', '만들다', '즉', '객체', '만들다', '파이썬', '어떻다', '이름', '하다', '값', '적다', '주다', '하다', '예', '들어서다', '에이', '100', '하다', '에이', '백', '갖다', '뜻', '늘다', '같다', '뜻', '아니다', '100', '값', '에이', '넣다', '이야기', '되다', '그래서', '100', '값', '에이', '들어가다', '되다', '때', '내', '부적', '일어나다', '일', '100', '데이터', '생기', '그', '100', '데이터', '객체', '부르다', '객체', '저장', '되다', '저장', '되다', '공간', '우리', '변수', '부르다', '리다', '빨갛다', '박스', '바로', '변수', '되다', '변수', '이름', '하나', '씩', '가다', '붙다', '되다', '그', '이름', '변수', '명', '하다', '여기', '변수', '명', '가다', '붙다', '예제', '그래서', '다음', '부터', '100', '데이터', '가지', '고', '오다', '변수', '명', '에이', '이용', '하다', '가져오다', '되다']\n",
      "['입력', '되다', '데이터', '숫자', '인', '경우', '수치', '데이터', '하다', '문자', '인', '경우', '문자', '데이터', '하다', '다시', '말', '하다', '입력', '되다', '데이터', '각자', '데이터', '유형', '갖다', '되다', '것', '자료형', '하다', '프로그램', '수행', '하다', '그', '프로그램', '다루다', '모든', '데이터', '메모리', '위', '저장', '되어다', '하다', '하다', '그때', '어떻다', '식', '저장', '되다', '대해', '서', '설명', '하다', '메모리', '저장', '되다', '자료', '우리', '객체', '부르다', '모든', '객체', '자료형', '갖다', '수치', '자료', '경우', '정수', '실수', '로', '구분', '하다', '또는', '문자', '데이터', '올라가다', '하다', '그래서', '각각', '대해', '서', '우리', '자료', '갖다', '붙이', '게', '되다', '모든', '개체', '고유', '갖다', '하다', '객체', '저장', '하다', '공간', '변수', '하다', '그', '공간', '이름', '변수', '명', '하다', '그', '이름', '통해', '서', '객체', '접근', '하다', '수가', '있다', '간단하다', '아래', '객체', '변수', '해해', '보다', '하다', '데이터', '만들다', '즉', '객체', '만들다', '파이썬', '어떻다', '이름', '하다', '값', '적다', '주다', '하다', '예', '들어서다', '에이', '100', '하다', '에이', '백', '갖다', '뜻', '늘다', '같다', '뜻', '아니다', '100', '값', '에이', '넣다', '이야기', '되다', '그래서', '100', '값', '에이', '들어가다', '되다', '때', '내', '부적', '일어나다', '일', '100', '데이터', '생기', '그', '100', '데이터', '객체', '부르다', '객체', '저장', '되다', '저장', '되다', '공간', '우리', '변수', '부르다', '리다', '빨갛다', '박스', '바로', '변수', '되다', '변수', '이름', '하나', '씩', '가다', '붙다', '되다', '그', '이름', '변수', '명', '하다', '여기', '변수', '명', '가다', '붙다', '예제', '그래서', '다음', '부터', '100', '데이터', '가지', '고', '오다', '변수', '명', '에이', '이용', '하다', '가져오다', '되다']\n",
      "['입력', '되다', '데이터', '숫자', '인', '경우', '수치', '데이터', '하다', '문자', '인', '경우', '문자', '데이터', '하다', '다시', '말', '하다', '입력', '되다', '데이터', '각자', '데이터', '유형', '갖다', '되다', '것', '자료형', '하다', '프로그램', '수행', '하다', '그', '프로그램', '다루다', '모든', '데이터', '메모리', '위', '저장', '되어다', '하다', '하다', '그때', '어떻다', '식', '저장', '되다', '대해', '서', '설명', '하다', '메모리', '저장', '되다', '자료', '우리', '객체', '부르다', '모든', '객체', '자료형', '갖다', '수치', '자료', '경우', '정수', '실수', '로', '구분', '하다', '또는', '문자', '데이터', '올라가다', '하다', '그래서', '각각', '대해', '서', '우리', '자료', '갖다', '붙이', '게', '되다', '모든', '개체', '고유', '갖다', '하다', '객체', '저장', '하다', '공간', '변수', '하다', '그', '공간', '이름', '변수', '명', '하다', '그', '이름', '통해', '서', '객체', '접근', '하다', '수가', '있다', '간단하다', '아래', '객체', '변수', '해해', '보다', '하다', '데이터', '만들다', '즉', '객체', '만들다', '파이썬', '어떻다', '이름', '하다', '값', '적다', '주다', '하다', '예', '들어서다', '에이', '100', '하다', '에이', '백', '갖다', '뜻', '늘다', '같다', '뜻', '아니다', '100', '값', '에이', '넣다', '이야기', '되다', '그래서', '100', '값', '에이', '들어가다', '되다', '때', '내', '부적', '일어나다', '일', '100', '데이터', '생기', '그', '100', '데이터', '객체', '부르다', '객체', '저장', '되다', '저장', '되다', '공간', '우리', '변수', '부르다', '리다', '빨갛다', '박스', '바로', '변수', '되다', '변수', '이름', '하나', '씩', '가다', '붙다', '되다', '그', '이름', '변수', '명', '하다', '여기', '변수', '명', '가다', '붙다', '예제', '그래서', '다음', '부터', '100', '데이터', '가지', '고', '오다', '변수', '명', '에이', '이용', '하다', '가져오다', '되다']\n",
      "['입력', '되다', '데이터', '숫자', '인', '경우', '수치', '데이터', '하다', '문자', '인', '경우', '문자', '데이터', '하다', '다시', '말', '하다', '입력', '되다', '데이터', '각자', '데이터', '유형', '갖다', '되다', '것', '자료형', '하다', '프로그램', '수행', '하다', '그', '프로그램', '다루다', '모든', '데이터', '메모리', '위', '저장', '되어다', '하다', '하다', '그때', '어떻다', '식', '저장', '되다', '대해', '서', '설명', '하다', '메모리', '저장', '되다', '자료', '우리', '객체', '부르다', '모든', '객체', '자료형', '갖다', '수치', '자료', '경우', '정수', '실수', '로', '구분', '하다', '또는', '문자', '데이터', '올라가다', '하다', '그래서', '각각', '대해', '서', '우리', '자료', '갖다', '붙이', '게', '되다', '모든', '개체', '고유', '갖다', '하다', '객체', '저장', '하다', '공간', '변수', '하다', '그', '공간', '이름', '변수', '명', '하다', '그', '이름', '통해', '서', '객체', '접근', '하다', '수가', '있다', '간단하다', '아래', '객체', '변수', '해해', '보다', '하다', '데이터', '만들다', '즉', '객체', '만들다', '파이썬', '어떻다', '이름', '하다', '값', '적다', '주다', '하다', '예', '들어서다', '에이', '100', '하다', '에이', '백', '갖다', '뜻', '늘다', '같다', '뜻', '아니다', '100', '값', '에이', '넣다', '이야기', '되다', '그래서', '100', '값', '에이', '들어가다', '되다', '때', '내', '부적', '일어나다', '일', '100', '데이터', '생기', '그', '100', '데이터', '객체', '부르다', '객체', '저장', '되다', '저장', '되다', '공간', '우리', '변수', '부르다', '리다', '빨갛다', '박스', '바로', '변수', '되다', '변수', '이름', '하나', '씩', '가다', '붙다', '되다', '그', '이름', '변수', '명', '하다', '여기', '변수', '명', '가다', '붙다', '예제', '그래서', '다음', '부터', '100', '데이터', '가지', '고', '오다', '변수', '명', '에이', '이용', '하다', '가져오다', '되다']\n",
      "['입력', '되다', '데이터', '숫자', '인', '경우', '수치', '데이터', '하다', '문자', '인', '경우', '문자', '데이터', '하다', '다시', '말', '하다', '입력', '되다', '데이터', '각자', '데이터', '유형', '갖다', '되다', '것', '자료형', '하다', '프로그램', '수행', '하다', '그', '프로그램', '다루다', '모든', '데이터', '메모리', '위', '저장', '되어다', '하다', '하다', '그때', '어떻다', '식', '저장', '되다', '대해', '서', '설명', '하다', '메모리', '저장', '되다', '자료', '우리', '객체', '부르다', '모든', '객체', '자료형', '갖다', '수치', '자료', '경우', '정수', '실수', '로', '구분', '하다', '또는', '문자', '데이터', '올라가다', '하다', '그래서', '각각', '대해', '서', '우리', '자료', '갖다', '붙이', '게', '되다', '모든', '개체', '고유', '갖다', '하다', '객체', '저장', '하다', '공간', '변수', '하다', '그', '공간', '이름', '변수', '명', '하다', '그', '이름', '통해', '서', '객체', '접근', '하다', '수가', '있다', '간단하다', '아래', '객체', '변수', '해해', '보다', '하다', '데이터', '만들다', '즉', '객체', '만들다', '파이썬', '어떻다', '이름', '하다', '값', '적다', '주다', '하다', '예', '들어서다', '에이', '100', '하다', '에이', '백', '갖다', '뜻', '늘다', '같다', '뜻', '아니다', '100', '값', '에이', '넣다', '이야기', '되다', '그래서', '100', '값', '에이', '들어가다', '되다', '때', '내', '부적', '일어나다', '일', '100', '데이터', '생기', '그', '100', '데이터', '객체', '부르다', '객체', '저장', '되다', '저장', '되다', '공간', '우리', '변수', '부르다', '리다', '빨갛다', '박스', '바로', '변수', '되다', '변수', '이름', '하나', '씩', '가다', '붙다', '되다', '그', '이름', '변수', '명', '하다', '여기', '변수', '명', '가다', '붙다', '예제', '그래서', '다음', '부터', '100', '데이터', '가지', '고', '오다', '변수', '명', '에이', '이용', '하다', '가져오다', '되다']\n",
      "['입력', '되다', '데이터', '숫자', '인', '경우', '수치', '데이터', '하다', '문자', '인', '경우', '문자', '데이터', '하다', '다시', '말', '하다', '입력', '되다', '데이터', '각자', '데이터', '유형', '갖다', '되다', '것', '자료형', '하다', '프로그램', '수행', '하다', '그', '프로그램', '다루다', '모든', '데이터', '메모리', '위', '저장', '되어다', '하다', '하다', '그때', '어떻다', '식', '저장', '되다', '대해', '서', '설명', '하다', '메모리', '저장', '되다', '자료', '우리', '객체', '부르다', '모든', '객체', '자료형', '갖다', '수치', '자료', '경우', '정수', '실수', '로', '구분', '하다', '또는', '문자', '데이터', '올라가다', '하다', '그래서', '각각', '대해', '서', '우리', '자료', '갖다', '붙이', '게', '되다', '모든', '개체', '고유', '갖다', '하다', '객체', '저장', '하다', '공간', '변수', '하다', '그', '공간', '이름', '변수', '명', '하다', '그', '이름', '통해', '서', '객체', '접근', '하다', '수가', '있다', '간단하다', '아래', '객체', '변수', '해해', '보다', '하다', '데이터', '만들다', '즉', '객체', '만들다', '파이썬', '어떻다', '이름', '하다', '값', '적다', '주다', '하다', '예', '들어서다', '에이', '100', '하다', '에이', '백', '갖다', '뜻', '늘다', '같다', '뜻', '아니다', '100', '값', '에이', '넣다', '이야기', '되다', '그래서', '100', '값', '에이', '들어가다', '되다', '때', '내', '부적', '일어나다', '일', '100', '데이터', '생기', '그', '100', '데이터', '객체', '부르다', '객체', '저장', '되다', '저장', '되다', '공간', '우리', '변수', '부르다', '리다', '빨갛다', '박스', '바로', '변수', '되다', '변수', '이름', '하나', '씩', '가다', '붙다', '되다', '그', '이름', '변수', '명', '하다', '여기', '변수', '명', '가다', '붙다', '예제', '그래서', '다음', '부터', '100', '데이터', '가지', '고', '오다', '변수', '명', '에이', '이용', '하다', '가져오다', '되다']\n"
     ]
    },
    {
     "name": "stdout",
     "output_type": "stream",
     "text": [
      "['입력', '되다', '데이터', '숫자', '인', '경우', '수치', '데이터', '하다', '문자', '인', '경우', '문자', '데이터', '하다', '다시', '말', '하다', '입력', '되다', '데이터', '각자', '데이터', '유형', '갖다', '되다', '것', '자료형', '하다', '프로그램', '수행', '하다', '그', '프로그램', '다루다', '모든', '데이터', '메모리', '위', '저장', '되어다', '하다', '하다', '그때', '어떻다', '식', '저장', '되다', '대해', '서', '설명', '하다', '메모리', '저장', '되다', '자료', '우리', '객체', '부르다', '모든', '객체', '자료형', '갖다', '수치', '자료', '경우', '정수', '실수', '로', '구분', '하다', '또는', '문자', '데이터', '올라가다', '하다', '그래서', '각각', '대해', '서', '우리', '자료', '갖다', '붙이', '게', '되다', '모든', '개체', '고유', '갖다', '하다', '객체', '저장', '하다', '공간', '변수', '하다', '그', '공간', '이름', '변수', '명', '하다', '그', '이름', '통해', '서', '객체', '접근', '하다', '수가', '있다', '간단하다', '아래', '객체', '변수', '해해', '보다', '하다', '데이터', '만들다', '즉', '객체', '만들다', '파이썬', '어떻다', '이름', '하다', '값', '적다', '주다', '하다', '예', '들어서다', '에이', '100', '하다', '에이', '백', '갖다', '뜻', '늘다', '같다', '뜻', '아니다', '100', '값', '에이', '넣다', '이야기', '되다', '그래서', '100', '값', '에이', '들어가다', '되다', '때', '내', '부적', '일어나다', '일', '100', '데이터', '생기', '그', '100', '데이터', '객체', '부르다', '객체', '저장', '되다', '저장', '되다', '공간', '우리', '변수', '부르다', '리다', '빨갛다', '박스', '바로', '변수', '되다', '변수', '이름', '하나', '씩', '가다', '붙다', '되다', '그', '이름', '변수', '명', '하다', '여기', '변수', '명', '가다', '붙다', '예제', '그래서', '다음', '부터', '100', '데이터', '가지', '고', '오다', '변수', '명', '에이', '이용', '하다', '가져오다', '되다']\n",
      "['입력', '되다', '데이터', '숫자', '인', '경우', '수치', '데이터', '하다', '문자', '인', '경우', '문자', '데이터', '하다', '다시', '말', '하다', '입력', '되다', '데이터', '각자', '데이터', '유형', '갖다', '되다', '것', '자료형', '하다', '프로그램', '수행', '하다', '그', '프로그램', '다루다', '모든', '데이터', '메모리', '위', '저장', '되어다', '하다', '하다', '그때', '어떻다', '식', '저장', '되다', '대해', '서', '설명', '하다', '메모리', '저장', '되다', '자료', '우리', '객체', '부르다', '모든', '객체', '자료형', '갖다', '수치', '자료', '경우', '정수', '실수', '로', '구분', '하다', '또는', '문자', '데이터', '올라가다', '하다', '그래서', '각각', '대해', '서', '우리', '자료', '갖다', '붙이', '게', '되다', '모든', '개체', '고유', '갖다', '하다', '객체', '저장', '하다', '공간', '변수', '하다', '그', '공간', '이름', '변수', '명', '하다', '그', '이름', '통해', '서', '객체', '접근', '하다', '수가', '있다', '간단하다', '아래', '객체', '변수', '해해', '보다', '하다', '데이터', '만들다', '즉', '객체', '만들다', '파이썬', '어떻다', '이름', '하다', '값', '적다', '주다', '하다', '예', '들어서다', '에이', '100', '하다', '에이', '백', '갖다', '뜻', '늘다', '같다', '뜻', '아니다', '100', '값', '에이', '넣다', '이야기', '되다', '그래서', '100', '값', '에이', '들어가다', '되다', '때', '내', '부적', '일어나다', '일', '100', '데이터', '생기', '그', '100', '데이터', '객체', '부르다', '객체', '저장', '되다', '저장', '되다', '공간', '우리', '변수', '부르다', '리다', '빨갛다', '박스', '바로', '변수', '되다', '변수', '이름', '하나', '씩', '가다', '붙다', '되다', '그', '이름', '변수', '명', '하다', '여기', '변수', '명', '가다', '붙다', '예제', '그래서', '다음', '부터', '100', '데이터', '가지', '고', '오다', '변수', '명', '에이', '이용', '하다', '가져오다', '되다']\n",
      "['입력', '되다', '데이터', '숫자', '인', '경우', '수치', '데이터', '하다', '문자', '인', '경우', '문자', '데이터', '하다', '다시', '말', '하다', '입력', '되다', '데이터', '각자', '데이터', '유형', '갖다', '되다', '것', '자료형', '하다', '프로그램', '수행', '하다', '그', '프로그램', '다루다', '모든', '데이터', '메모리', '위', '저장', '되어다', '하다', '하다', '그때', '어떻다', '식', '저장', '되다', '대해', '서', '설명', '하다', '메모리', '저장', '되다', '자료', '우리', '객체', '부르다', '모든', '객체', '자료형', '갖다', '수치', '자료', '경우', '정수', '실수', '로', '구분', '하다', '또는', '문자', '데이터', '올라가다', '하다', '그래서', '각각', '대해', '서', '우리', '자료', '갖다', '붙이', '게', '되다', '모든', '개체', '고유', '갖다', '하다', '객체', '저장', '하다', '공간', '변수', '하다', '그', '공간', '이름', '변수', '명', '하다', '그', '이름', '통해', '서', '객체', '접근', '하다', '수가', '있다', '간단하다', '아래', '객체', '변수', '해해', '보다', '하다', '데이터', '만들다', '즉', '객체', '만들다', '파이썬', '어떻다', '이름', '하다', '값', '적다', '주다', '하다', '예', '들어서다', '에이', '100', '하다', '에이', '백', '갖다', '뜻', '늘다', '같다', '뜻', '아니다', '100', '값', '에이', '넣다', '이야기', '되다', '그래서', '100', '값', '에이', '들어가다', '되다', '때', '내', '부적', '일어나다', '일', '100', '데이터', '생기', '그', '100', '데이터', '객체', '부르다', '객체', '저장', '되다', '저장', '되다', '공간', '우리', '변수', '부르다', '리다', '빨갛다', '박스', '바로', '변수', '되다', '변수', '이름', '하나', '씩', '가다', '붙다', '되다', '그', '이름', '변수', '명', '하다', '여기', '변수', '명', '가다', '붙다', '예제', '그래서', '다음', '부터', '100', '데이터', '가지', '고', '오다', '변수', '명', '에이', '이용', '하다', '가져오다', '되다']\n",
      "['입력', '되다', '데이터', '숫자', '인', '경우', '수치', '데이터', '하다', '문자', '인', '경우', '문자', '데이터', '하다', '다시', '말', '하다', '입력', '되다', '데이터', '각자', '데이터', '유형', '갖다', '되다', '것', '자료형', '하다', '프로그램', '수행', '하다', '그', '프로그램', '다루다', '모든', '데이터', '메모리', '위', '저장', '되어다', '하다', '하다', '그때', '어떻다', '식', '저장', '되다', '대해', '서', '설명', '하다', '메모리', '저장', '되다', '자료', '우리', '객체', '부르다', '모든', '객체', '자료형', '갖다', '수치', '자료', '경우', '정수', '실수', '로', '구분', '하다', '또는', '문자', '데이터', '올라가다', '하다', '그래서', '각각', '대해', '서', '우리', '자료', '갖다', '붙이', '게', '되다', '모든', '개체', '고유', '갖다', '하다', '객체', '저장', '하다', '공간', '변수', '하다', '그', '공간', '이름', '변수', '명', '하다', '그', '이름', '통해', '서', '객체', '접근', '하다', '수가', '있다', '간단하다', '아래', '객체', '변수', '해해', '보다', '하다', '데이터', '만들다', '즉', '객체', '만들다', '파이썬', '어떻다', '이름', '하다', '값', '적다', '주다', '하다', '예', '들어서다', '에이', '100', '하다', '에이', '백', '갖다', '뜻', '늘다', '같다', '뜻', '아니다', '100', '값', '에이', '넣다', '이야기', '되다', '그래서', '100', '값', '에이', '들어가다', '되다', '때', '내', '부적', '일어나다', '일', '100', '데이터', '생기', '그', '100', '데이터', '객체', '부르다', '객체', '저장', '되다', '저장', '되다', '공간', '우리', '변수', '부르다', '리다', '빨갛다', '박스', '바로', '변수', '되다', '변수', '이름', '하나', '씩', '가다', '붙다', '되다', '그', '이름', '변수', '명', '하다', '여기', '변수', '명', '가다', '붙다', '예제', '그래서', '다음', '부터', '100', '데이터', '가지', '고', '오다', '변수', '명', '에이', '이용', '하다', '가져오다', '되다']\n",
      "['입력', '되다', '데이터', '숫자', '인', '경우', '수치', '데이터', '하다', '문자', '인', '경우', '문자', '데이터', '하다', '다시', '말', '하다', '입력', '되다', '데이터', '각자', '데이터', '유형', '갖다', '되다', '것', '자료형', '하다', '프로그램', '수행', '하다', '그', '프로그램', '다루다', '모든', '데이터', '메모리', '위', '저장', '되어다', '하다', '하다', '그때', '어떻다', '식', '저장', '되다', '대해', '서', '설명', '하다', '메모리', '저장', '되다', '자료', '우리', '객체', '부르다', '모든', '객체', '자료형', '갖다', '수치', '자료', '경우', '정수', '실수', '로', '구분', '하다', '또는', '문자', '데이터', '올라가다', '하다', '그래서', '각각', '대해', '서', '우리', '자료', '갖다', '붙이', '게', '되다', '모든', '개체', '고유', '갖다', '하다', '객체', '저장', '하다', '공간', '변수', '하다', '그', '공간', '이름', '변수', '명', '하다', '그', '이름', '통해', '서', '객체', '접근', '하다', '수가', '있다', '간단하다', '아래', '객체', '변수', '해해', '보다', '하다', '데이터', '만들다', '즉', '객체', '만들다', '파이썬', '어떻다', '이름', '하다', '값', '적다', '주다', '하다', '예', '들어서다', '에이', '100', '하다', '에이', '백', '갖다', '뜻', '늘다', '같다', '뜻', '아니다', '100', '값', '에이', '넣다', '이야기', '되다', '그래서', '100', '값', '에이', '들어가다', '되다', '때', '내', '부적', '일어나다', '일', '100', '데이터', '생기', '그', '100', '데이터', '객체', '부르다', '객체', '저장', '되다', '저장', '되다', '공간', '우리', '변수', '부르다', '리다', '빨갛다', '박스', '바로', '변수', '되다', '변수', '이름', '하나', '씩', '가다', '붙다', '되다', '그', '이름', '변수', '명', '하다', '여기', '변수', '명', '가다', '붙다', '예제', '그래서', '다음', '부터', '100', '데이터', '가지', '고', '오다', '변수', '명', '에이', '이용', '하다', '가져오다', '되다']\n",
      "['입력', '되다', '데이터', '숫자', '인', '경우', '수치', '데이터', '하다', '문자', '인', '경우', '문자', '데이터', '하다', '다시', '말', '하다', '입력', '되다', '데이터', '각자', '데이터', '유형', '갖다', '되다', '것', '자료형', '하다', '프로그램', '수행', '하다', '그', '프로그램', '다루다', '모든', '데이터', '메모리', '위', '저장', '되어다', '하다', '하다', '그때', '어떻다', '식', '저장', '되다', '대해', '서', '설명', '하다', '메모리', '저장', '되다', '자료', '우리', '객체', '부르다', '모든', '객체', '자료형', '갖다', '수치', '자료', '경우', '정수', '실수', '로', '구분', '하다', '또는', '문자', '데이터', '올라가다', '하다', '그래서', '각각', '대해', '서', '우리', '자료', '갖다', '붙이', '게', '되다', '모든', '개체', '고유', '갖다', '하다', '객체', '저장', '하다', '공간', '변수', '하다', '그', '공간', '이름', '변수', '명', '하다', '그', '이름', '통해', '서', '객체', '접근', '하다', '수가', '있다', '간단하다', '아래', '객체', '변수', '해해', '보다', '하다', '데이터', '만들다', '즉', '객체', '만들다', '파이썬', '어떻다', '이름', '하다', '값', '적다', '주다', '하다', '예', '들어서다', '에이', '100', '하다', '에이', '백', '갖다', '뜻', '늘다', '같다', '뜻', '아니다', '100', '값', '에이', '넣다', '이야기', '되다', '그래서', '100', '값', '에이', '들어가다', '되다', '때', '내', '부적', '일어나다', '일', '100', '데이터', '생기', '그', '100', '데이터', '객체', '부르다', '객체', '저장', '되다', '저장', '되다', '공간', '우리', '변수', '부르다', '리다', '빨갛다', '박스', '바로', '변수', '되다', '변수', '이름', '하나', '씩', '가다', '붙다', '되다', '그', '이름', '변수', '명', '하다', '여기', '변수', '명', '가다', '붙다', '예제', '그래서', '다음', '부터', '100', '데이터', '가지', '고', '오다', '변수', '명', '에이', '이용', '하다', '가져오다', '되다']\n",
      "['입력', '되다', '데이터', '숫자', '인', '경우', '수치', '데이터', '하다', '문자', '인', '경우', '문자', '데이터', '하다', '다시', '말', '하다', '입력', '되다', '데이터', '각자', '데이터', '유형', '갖다', '되다', '것', '자료형', '하다', '프로그램', '수행', '하다', '그', '프로그램', '다루다', '모든', '데이터', '메모리', '위', '저장', '되어다', '하다', '하다', '그때', '어떻다', '식', '저장', '되다', '대해', '서', '설명', '하다', '메모리', '저장', '되다', '자료', '우리', '객체', '부르다', '모든', '객체', '자료형', '갖다', '수치', '자료', '경우', '정수', '실수', '로', '구분', '하다', '또는', '문자', '데이터', '올라가다', '하다', '그래서', '각각', '대해', '서', '우리', '자료', '갖다', '붙이', '게', '되다', '모든', '개체', '고유', '갖다', '하다', '객체', '저장', '하다', '공간', '변수', '하다', '그', '공간', '이름', '변수', '명', '하다', '그', '이름', '통해', '서', '객체', '접근', '하다', '수가', '있다', '간단하다', '아래', '객체', '변수', '해해', '보다', '하다', '데이터', '만들다', '즉', '객체', '만들다', '파이썬', '어떻다', '이름', '하다', '값', '적다', '주다', '하다', '예', '들어서다', '에이', '100', '하다', '에이', '백', '갖다', '뜻', '늘다', '같다', '뜻', '아니다', '100', '값', '에이', '넣다', '이야기', '되다', '그래서', '100', '값', '에이', '들어가다', '되다', '때', '내', '부적', '일어나다', '일', '100', '데이터', '생기', '그', '100', '데이터', '객체', '부르다', '객체', '저장', '되다', '저장', '되다', '공간', '우리', '변수', '부르다', '리다', '빨갛다', '박스', '바로', '변수', '되다', '변수', '이름', '하나', '씩', '가다', '붙다', '되다', '그', '이름', '변수', '명', '하다', '여기', '변수', '명', '가다', '붙다', '예제', '그래서', '다음', '부터', '100', '데이터', '가지', '고', '오다', '변수', '명', '에이', '이용', '하다', '가져오다', '되다']\n"
     ]
    },
    {
     "name": "stdout",
     "output_type": "stream",
     "text": [
      "['입력', '되다', '데이터', '숫자', '인', '경우', '수치', '데이터', '하다', '문자', '인', '경우', '문자', '데이터', '하다', '다시', '말', '하다', '입력', '되다', '데이터', '각자', '데이터', '유형', '갖다', '되다', '것', '자료형', '하다', '프로그램', '수행', '하다', '그', '프로그램', '다루다', '모든', '데이터', '메모리', '위', '저장', '되어다', '하다', '하다', '그때', '어떻다', '식', '저장', '되다', '대해', '서', '설명', '하다', '메모리', '저장', '되다', '자료', '우리', '객체', '부르다', '모든', '객체', '자료형', '갖다', '수치', '자료', '경우', '정수', '실수', '로', '구분', '하다', '또는', '문자', '데이터', '올라가다', '하다', '그래서', '각각', '대해', '서', '우리', '자료', '갖다', '붙이', '게', '되다', '모든', '개체', '고유', '갖다', '하다', '객체', '저장', '하다', '공간', '변수', '하다', '그', '공간', '이름', '변수', '명', '하다', '그', '이름', '통해', '서', '객체', '접근', '하다', '수가', '있다', '간단하다', '아래', '객체', '변수', '해해', '보다', '하다', '데이터', '만들다', '즉', '객체', '만들다', '파이썬', '어떻다', '이름', '하다', '값', '적다', '주다', '하다', '예', '들어서다', '에이', '100', '하다', '에이', '백', '갖다', '뜻', '늘다', '같다', '뜻', '아니다', '100', '값', '에이', '넣다', '이야기', '되다', '그래서', '100', '값', '에이', '들어가다', '되다', '때', '내', '부적', '일어나다', '일', '100', '데이터', '생기', '그', '100', '데이터', '객체', '부르다', '객체', '저장', '되다', '저장', '되다', '공간', '우리', '변수', '부르다', '리다', '빨갛다', '박스', '바로', '변수', '되다', '변수', '이름', '하나', '씩', '가다', '붙다', '되다', '그', '이름', '변수', '명', '하다', '여기', '변수', '명', '가다', '붙다', '예제', '그래서', '다음', '부터', '100', '데이터', '가지', '고', '오다', '변수', '명', '에이', '이용', '하다', '가져오다', '되다']\n",
      "['입력', '되다', '데이터', '숫자', '인', '경우', '수치', '데이터', '하다', '문자', '인', '경우', '문자', '데이터', '하다', '다시', '말', '하다', '입력', '되다', '데이터', '각자', '데이터', '유형', '갖다', '되다', '것', '자료형', '하다', '프로그램', '수행', '하다', '그', '프로그램', '다루다', '모든', '데이터', '메모리', '위', '저장', '되어다', '하다', '하다', '그때', '어떻다', '식', '저장', '되다', '대해', '서', '설명', '하다', '메모리', '저장', '되다', '자료', '우리', '객체', '부르다', '모든', '객체', '자료형', '갖다', '수치', '자료', '경우', '정수', '실수', '로', '구분', '하다', '또는', '문자', '데이터', '올라가다', '하다', '그래서', '각각', '대해', '서', '우리', '자료', '갖다', '붙이', '게', '되다', '모든', '개체', '고유', '갖다', '하다', '객체', '저장', '하다', '공간', '변수', '하다', '그', '공간', '이름', '변수', '명', '하다', '그', '이름', '통해', '서', '객체', '접근', '하다', '수가', '있다', '간단하다', '아래', '객체', '변수', '해해', '보다', '하다', '데이터', '만들다', '즉', '객체', '만들다', '파이썬', '어떻다', '이름', '하다', '값', '적다', '주다', '하다', '예', '들어서다', '에이', '100', '하다', '에이', '백', '갖다', '뜻', '늘다', '같다', '뜻', '아니다', '100', '값', '에이', '넣다', '이야기', '되다', '그래서', '100', '값', '에이', '들어가다', '되다', '때', '내', '부적', '일어나다', '일', '100', '데이터', '생기', '그', '100', '데이터', '객체', '부르다', '객체', '저장', '되다', '저장', '되다', '공간', '우리', '변수', '부르다', '리다', '빨갛다', '박스', '바로', '변수', '되다', '변수', '이름', '하나', '씩', '가다', '붙다', '되다', '그', '이름', '변수', '명', '하다', '여기', '변수', '명', '가다', '붙다', '예제', '그래서', '다음', '부터', '100', '데이터', '가지', '고', '오다', '변수', '명', '에이', '이용', '하다', '가져오다', '되다']\n",
      "['입력', '되다', '데이터', '숫자', '인', '경우', '수치', '데이터', '하다', '문자', '인', '경우', '문자', '데이터', '하다', '다시', '말', '하다', '입력', '되다', '데이터', '각자', '데이터', '유형', '갖다', '되다', '것', '자료형', '하다', '프로그램', '수행', '하다', '그', '프로그램', '다루다', '모든', '데이터', '메모리', '위', '저장', '되어다', '하다', '하다', '그때', '어떻다', '식', '저장', '되다', '대해', '서', '설명', '하다', '메모리', '저장', '되다', '자료', '우리', '객체', '부르다', '모든', '객체', '자료형', '갖다', '수치', '자료', '경우', '정수', '실수', '로', '구분', '하다', '또는', '문자', '데이터', '올라가다', '하다', '그래서', '각각', '대해', '서', '우리', '자료', '갖다', '붙이', '게', '되다', '모든', '개체', '고유', '갖다', '하다', '객체', '저장', '하다', '공간', '변수', '하다', '그', '공간', '이름', '변수', '명', '하다', '그', '이름', '통해', '서', '객체', '접근', '하다', '수가', '있다', '간단하다', '아래', '객체', '변수', '해해', '보다', '하다', '데이터', '만들다', '즉', '객체', '만들다', '파이썬', '어떻다', '이름', '하다', '값', '적다', '주다', '하다', '예', '들어서다', '에이', '100', '하다', '에이', '백', '갖다', '뜻', '늘다', '같다', '뜻', '아니다', '100', '값', '에이', '넣다', '이야기', '되다', '그래서', '100', '값', '에이', '들어가다', '되다', '때', '내', '부적', '일어나다', '일', '100', '데이터', '생기', '그', '100', '데이터', '객체', '부르다', '객체', '저장', '되다', '저장', '되다', '공간', '우리', '변수', '부르다', '리다', '빨갛다', '박스', '바로', '변수', '되다', '변수', '이름', '하나', '씩', '가다', '붙다', '되다', '그', '이름', '변수', '명', '하다', '여기', '변수', '명', '가다', '붙다', '예제', '그래서', '다음', '부터', '100', '데이터', '가지', '고', '오다', '변수', '명', '에이', '이용', '하다', '가져오다', '되다']\n",
      "['입력', '되다', '데이터', '숫자', '인', '경우', '수치', '데이터', '하다', '문자', '인', '경우', '문자', '데이터', '하다', '다시', '말', '하다', '입력', '되다', '데이터', '각자', '데이터', '유형', '갖다', '되다', '것', '자료형', '하다', '프로그램', '수행', '하다', '그', '프로그램', '다루다', '모든', '데이터', '메모리', '위', '저장', '되어다', '하다', '하다', '그때', '어떻다', '식', '저장', '되다', '대해', '서', '설명', '하다', '메모리', '저장', '되다', '자료', '우리', '객체', '부르다', '모든', '객체', '자료형', '갖다', '수치', '자료', '경우', '정수', '실수', '로', '구분', '하다', '또는', '문자', '데이터', '올라가다', '하다', '그래서', '각각', '대해', '서', '우리', '자료', '갖다', '붙이', '게', '되다', '모든', '개체', '고유', '갖다', '하다', '객체', '저장', '하다', '공간', '변수', '하다', '그', '공간', '이름', '변수', '명', '하다', '그', '이름', '통해', '서', '객체', '접근', '하다', '수가', '있다', '간단하다', '아래', '객체', '변수', '해해', '보다', '하다', '데이터', '만들다', '즉', '객체', '만들다', '파이썬', '어떻다', '이름', '하다', '값', '적다', '주다', '하다', '예', '들어서다', '에이', '100', '하다', '에이', '백', '갖다', '뜻', '늘다', '같다', '뜻', '아니다', '100', '값', '에이', '넣다', '이야기', '되다', '그래서', '100', '값', '에이', '들어가다', '되다', '때', '내', '부적', '일어나다', '일', '100', '데이터', '생기', '그', '100', '데이터', '객체', '부르다', '객체', '저장', '되다', '저장', '되다', '공간', '우리', '변수', '부르다', '리다', '빨갛다', '박스', '바로', '변수', '되다', '변수', '이름', '하나', '씩', '가다', '붙다', '되다', '그', '이름', '변수', '명', '하다', '여기', '변수', '명', '가다', '붙다', '예제', '그래서', '다음', '부터', '100', '데이터', '가지', '고', '오다', '변수', '명', '에이', '이용', '하다', '가져오다', '되다']\n",
      "['입력', '되다', '데이터', '숫자', '인', '경우', '수치', '데이터', '하다', '문자', '인', '경우', '문자', '데이터', '하다', '다시', '말', '하다', '입력', '되다', '데이터', '각자', '데이터', '유형', '갖다', '되다', '것', '자료형', '하다', '프로그램', '수행', '하다', '그', '프로그램', '다루다', '모든', '데이터', '메모리', '위', '저장', '되어다', '하다', '하다', '그때', '어떻다', '식', '저장', '되다', '대해', '서', '설명', '하다', '메모리', '저장', '되다', '자료', '우리', '객체', '부르다', '모든', '객체', '자료형', '갖다', '수치', '자료', '경우', '정수', '실수', '로', '구분', '하다', '또는', '문자', '데이터', '올라가다', '하다', '그래서', '각각', '대해', '서', '우리', '자료', '갖다', '붙이', '게', '되다', '모든', '개체', '고유', '갖다', '하다', '객체', '저장', '하다', '공간', '변수', '하다', '그', '공간', '이름', '변수', '명', '하다', '그', '이름', '통해', '서', '객체', '접근', '하다', '수가', '있다', '간단하다', '아래', '객체', '변수', '해해', '보다', '하다', '데이터', '만들다', '즉', '객체', '만들다', '파이썬', '어떻다', '이름', '하다', '값', '적다', '주다', '하다', '예', '들어서다', '에이', '100', '하다', '에이', '백', '갖다', '뜻', '늘다', '같다', '뜻', '아니다', '100', '값', '에이', '넣다', '이야기', '되다', '그래서', '100', '값', '에이', '들어가다', '되다', '때', '내', '부적', '일어나다', '일', '100', '데이터', '생기', '그', '100', '데이터', '객체', '부르다', '객체', '저장', '되다', '저장', '되다', '공간', '우리', '변수', '부르다', '리다', '빨갛다', '박스', '바로', '변수', '되다', '변수', '이름', '하나', '씩', '가다', '붙다', '되다', '그', '이름', '변수', '명', '하다', '여기', '변수', '명', '가다', '붙다', '예제', '그래서', '다음', '부터', '100', '데이터', '가지', '고', '오다', '변수', '명', '에이', '이용', '하다', '가져오다', '되다']\n",
      "['입력', '되다', '데이터', '숫자', '인', '경우', '수치', '데이터', '하다', '문자', '인', '경우', '문자', '데이터', '하다', '다시', '말', '하다', '입력', '되다', '데이터', '각자', '데이터', '유형', '갖다', '되다', '것', '자료형', '하다', '프로그램', '수행', '하다', '그', '프로그램', '다루다', '모든', '데이터', '메모리', '위', '저장', '되어다', '하다', '하다', '그때', '어떻다', '식', '저장', '되다', '대해', '서', '설명', '하다', '메모리', '저장', '되다', '자료', '우리', '객체', '부르다', '모든', '객체', '자료형', '갖다', '수치', '자료', '경우', '정수', '실수', '로', '구분', '하다', '또는', '문자', '데이터', '올라가다', '하다', '그래서', '각각', '대해', '서', '우리', '자료', '갖다', '붙이', '게', '되다', '모든', '개체', '고유', '갖다', '하다', '객체', '저장', '하다', '공간', '변수', '하다', '그', '공간', '이름', '변수', '명', '하다', '그', '이름', '통해', '서', '객체', '접근', '하다', '수가', '있다', '간단하다', '아래', '객체', '변수', '해해', '보다', '하다', '데이터', '만들다', '즉', '객체', '만들다', '파이썬', '어떻다', '이름', '하다', '값', '적다', '주다', '하다', '예', '들어서다', '에이', '100', '하다', '에이', '백', '갖다', '뜻', '늘다', '같다', '뜻', '아니다', '100', '값', '에이', '넣다', '이야기', '되다', '그래서', '100', '값', '에이', '들어가다', '되다', '때', '내', '부적', '일어나다', '일', '100', '데이터', '생기', '그', '100', '데이터', '객체', '부르다', '객체', '저장', '되다', '저장', '되다', '공간', '우리', '변수', '부르다', '리다', '빨갛다', '박스', '바로', '변수', '되다', '변수', '이름', '하나', '씩', '가다', '붙다', '되다', '그', '이름', '변수', '명', '하다', '여기', '변수', '명', '가다', '붙다', '예제', '그래서', '다음', '부터', '100', '데이터', '가지', '고', '오다', '변수', '명', '에이', '이용', '하다', '가져오다', '되다']\n",
      "['입력', '되다', '데이터', '숫자', '인', '경우', '수치', '데이터', '하다', '문자', '인', '경우', '문자', '데이터', '하다', '다시', '말', '하다', '입력', '되다', '데이터', '각자', '데이터', '유형', '갖다', '되다', '것', '자료형', '하다', '프로그램', '수행', '하다', '그', '프로그램', '다루다', '모든', '데이터', '메모리', '위', '저장', '되어다', '하다', '하다', '그때', '어떻다', '식', '저장', '되다', '대해', '서', '설명', '하다', '메모리', '저장', '되다', '자료', '우리', '객체', '부르다', '모든', '객체', '자료형', '갖다', '수치', '자료', '경우', '정수', '실수', '로', '구분', '하다', '또는', '문자', '데이터', '올라가다', '하다', '그래서', '각각', '대해', '서', '우리', '자료', '갖다', '붙이', '게', '되다', '모든', '개체', '고유', '갖다', '하다', '객체', '저장', '하다', '공간', '변수', '하다', '그', '공간', '이름', '변수', '명', '하다', '그', '이름', '통해', '서', '객체', '접근', '하다', '수가', '있다', '간단하다', '아래', '객체', '변수', '해해', '보다', '하다', '데이터', '만들다', '즉', '객체', '만들다', '파이썬', '어떻다', '이름', '하다', '값', '적다', '주다', '하다', '예', '들어서다', '에이', '100', '하다', '에이', '백', '갖다', '뜻', '늘다', '같다', '뜻', '아니다', '100', '값', '에이', '넣다', '이야기', '되다', '그래서', '100', '값', '에이', '들어가다', '되다', '때', '내', '부적', '일어나다', '일', '100', '데이터', '생기', '그', '100', '데이터', '객체', '부르다', '객체', '저장', '되다', '저장', '되다', '공간', '우리', '변수', '부르다', '리다', '빨갛다', '박스', '바로', '변수', '되다', '변수', '이름', '하나', '씩', '가다', '붙다', '되다', '그', '이름', '변수', '명', '하다', '여기', '변수', '명', '가다', '붙다', '예제', '그래서', '다음', '부터', '100', '데이터', '가지', '고', '오다', '변수', '명', '에이', '이용', '하다', '가져오다', '되다']\n"
     ]
    },
    {
     "name": "stdout",
     "output_type": "stream",
     "text": [
      "['입력', '되다', '데이터', '숫자', '인', '경우', '수치', '데이터', '하다', '문자', '인', '경우', '문자', '데이터', '하다', '다시', '말', '하다', '입력', '되다', '데이터', '각자', '데이터', '유형', '갖다', '되다', '것', '자료형', '하다', '프로그램', '수행', '하다', '그', '프로그램', '다루다', '모든', '데이터', '메모리', '위', '저장', '되어다', '하다', '하다', '그때', '어떻다', '식', '저장', '되다', '대해', '서', '설명', '하다', '메모리', '저장', '되다', '자료', '우리', '객체', '부르다', '모든', '객체', '자료형', '갖다', '수치', '자료', '경우', '정수', '실수', '로', '구분', '하다', '또는', '문자', '데이터', '올라가다', '하다', '그래서', '각각', '대해', '서', '우리', '자료', '갖다', '붙이', '게', '되다', '모든', '개체', '고유', '갖다', '하다', '객체', '저장', '하다', '공간', '변수', '하다', '그', '공간', '이름', '변수', '명', '하다', '그', '이름', '통해', '서', '객체', '접근', '하다', '수가', '있다', '간단하다', '아래', '객체', '변수', '해해', '보다', '하다', '데이터', '만들다', '즉', '객체', '만들다', '파이썬', '어떻다', '이름', '하다', '값', '적다', '주다', '하다', '예', '들어서다', '에이', '100', '하다', '에이', '백', '갖다', '뜻', '늘다', '같다', '뜻', '아니다', '100', '값', '에이', '넣다', '이야기', '되다', '그래서', '100', '값', '에이', '들어가다', '되다', '때', '내', '부적', '일어나다', '일', '100', '데이터', '생기', '그', '100', '데이터', '객체', '부르다', '객체', '저장', '되다', '저장', '되다', '공간', '우리', '변수', '부르다', '리다', '빨갛다', '박스', '바로', '변수', '되다', '변수', '이름', '하나', '씩', '가다', '붙다', '되다', '그', '이름', '변수', '명', '하다', '여기', '변수', '명', '가다', '붙다', '예제', '그래서', '다음', '부터', '100', '데이터', '가지', '고', '오다', '변수', '명', '에이', '이용', '하다', '가져오다', '되다']\n",
      "['입력', '되다', '데이터', '숫자', '인', '경우', '수치', '데이터', '하다', '문자', '인', '경우', '문자', '데이터', '하다', '다시', '말', '하다', '입력', '되다', '데이터', '각자', '데이터', '유형', '갖다', '되다', '것', '자료형', '하다', '프로그램', '수행', '하다', '그', '프로그램', '다루다', '모든', '데이터', '메모리', '위', '저장', '되어다', '하다', '하다', '그때', '어떻다', '식', '저장', '되다', '대해', '서', '설명', '하다', '메모리', '저장', '되다', '자료', '우리', '객체', '부르다', '모든', '객체', '자료형', '갖다', '수치', '자료', '경우', '정수', '실수', '로', '구분', '하다', '또는', '문자', '데이터', '올라가다', '하다', '그래서', '각각', '대해', '서', '우리', '자료', '갖다', '붙이', '게', '되다', '모든', '개체', '고유', '갖다', '하다', '객체', '저장', '하다', '공간', '변수', '하다', '그', '공간', '이름', '변수', '명', '하다', '그', '이름', '통해', '서', '객체', '접근', '하다', '수가', '있다', '간단하다', '아래', '객체', '변수', '해해', '보다', '하다', '데이터', '만들다', '즉', '객체', '만들다', '파이썬', '어떻다', '이름', '하다', '값', '적다', '주다', '하다', '예', '들어서다', '에이', '100', '하다', '에이', '백', '갖다', '뜻', '늘다', '같다', '뜻', '아니다', '100', '값', '에이', '넣다', '이야기', '되다', '그래서', '100', '값', '에이', '들어가다', '되다', '때', '내', '부적', '일어나다', '일', '100', '데이터', '생기', '그', '100', '데이터', '객체', '부르다', '객체', '저장', '되다', '저장', '되다', '공간', '우리', '변수', '부르다', '리다', '빨갛다', '박스', '바로', '변수', '되다', '변수', '이름', '하나', '씩', '가다', '붙다', '되다', '그', '이름', '변수', '명', '하다', '여기', '변수', '명', '가다', '붙다', '예제', '그래서', '다음', '부터', '100', '데이터', '가지', '고', '오다', '변수', '명', '에이', '이용', '하다', '가져오다', '되다']\n",
      "['입력', '되다', '데이터', '숫자', '인', '경우', '수치', '데이터', '하다', '문자', '인', '경우', '문자', '데이터', '하다', '다시', '말', '하다', '입력', '되다', '데이터', '각자', '데이터', '유형', '갖다', '되다', '것', '자료형', '하다', '프로그램', '수행', '하다', '그', '프로그램', '다루다', '모든', '데이터', '메모리', '위', '저장', '되어다', '하다', '하다', '그때', '어떻다', '식', '저장', '되다', '대해', '서', '설명', '하다', '메모리', '저장', '되다', '자료', '우리', '객체', '부르다', '모든', '객체', '자료형', '갖다', '수치', '자료', '경우', '정수', '실수', '로', '구분', '하다', '또는', '문자', '데이터', '올라가다', '하다', '그래서', '각각', '대해', '서', '우리', '자료', '갖다', '붙이', '게', '되다', '모든', '개체', '고유', '갖다', '하다', '객체', '저장', '하다', '공간', '변수', '하다', '그', '공간', '이름', '변수', '명', '하다', '그', '이름', '통해', '서', '객체', '접근', '하다', '수가', '있다', '간단하다', '아래', '객체', '변수', '해해', '보다', '하다', '데이터', '만들다', '즉', '객체', '만들다', '파이썬', '어떻다', '이름', '하다', '값', '적다', '주다', '하다', '예', '들어서다', '에이', '100', '하다', '에이', '백', '갖다', '뜻', '늘다', '같다', '뜻', '아니다', '100', '값', '에이', '넣다', '이야기', '되다', '그래서', '100', '값', '에이', '들어가다', '되다', '때', '내', '부적', '일어나다', '일', '100', '데이터', '생기', '그', '100', '데이터', '객체', '부르다', '객체', '저장', '되다', '저장', '되다', '공간', '우리', '변수', '부르다', '리다', '빨갛다', '박스', '바로', '변수', '되다', '변수', '이름', '하나', '씩', '가다', '붙다', '되다', '그', '이름', '변수', '명', '하다', '여기', '변수', '명', '가다', '붙다', '예제', '그래서', '다음', '부터', '100', '데이터', '가지', '고', '오다', '변수', '명', '에이', '이용', '하다', '가져오다', '되다']\n",
      "['입력', '되다', '데이터', '숫자', '인', '경우', '수치', '데이터', '하다', '문자', '인', '경우', '문자', '데이터', '하다', '다시', '말', '하다', '입력', '되다', '데이터', '각자', '데이터', '유형', '갖다', '되다', '것', '자료형', '하다', '프로그램', '수행', '하다', '그', '프로그램', '다루다', '모든', '데이터', '메모리', '위', '저장', '되어다', '하다', '하다', '그때', '어떻다', '식', '저장', '되다', '대해', '서', '설명', '하다', '메모리', '저장', '되다', '자료', '우리', '객체', '부르다', '모든', '객체', '자료형', '갖다', '수치', '자료', '경우', '정수', '실수', '로', '구분', '하다', '또는', '문자', '데이터', '올라가다', '하다', '그래서', '각각', '대해', '서', '우리', '자료', '갖다', '붙이', '게', '되다', '모든', '개체', '고유', '갖다', '하다', '객체', '저장', '하다', '공간', '변수', '하다', '그', '공간', '이름', '변수', '명', '하다', '그', '이름', '통해', '서', '객체', '접근', '하다', '수가', '있다', '간단하다', '아래', '객체', '변수', '해해', '보다', '하다', '데이터', '만들다', '즉', '객체', '만들다', '파이썬', '어떻다', '이름', '하다', '값', '적다', '주다', '하다', '예', '들어서다', '에이', '100', '하다', '에이', '백', '갖다', '뜻', '늘다', '같다', '뜻', '아니다', '100', '값', '에이', '넣다', '이야기', '되다', '그래서', '100', '값', '에이', '들어가다', '되다', '때', '내', '부적', '일어나다', '일', '100', '데이터', '생기', '그', '100', '데이터', '객체', '부르다', '객체', '저장', '되다', '저장', '되다', '공간', '우리', '변수', '부르다', '리다', '빨갛다', '박스', '바로', '변수', '되다', '변수', '이름', '하나', '씩', '가다', '붙다', '되다', '그', '이름', '변수', '명', '하다', '여기', '변수', '명', '가다', '붙다', '예제', '그래서', '다음', '부터', '100', '데이터', '가지', '고', '오다', '변수', '명', '에이', '이용', '하다', '가져오다', '되다']\n",
      "['입력', '되다', '데이터', '숫자', '인', '경우', '수치', '데이터', '하다', '문자', '인', '경우', '문자', '데이터', '하다', '다시', '말', '하다', '입력', '되다', '데이터', '각자', '데이터', '유형', '갖다', '되다', '것', '자료형', '하다', '프로그램', '수행', '하다', '그', '프로그램', '다루다', '모든', '데이터', '메모리', '위', '저장', '되어다', '하다', '하다', '그때', '어떻다', '식', '저장', '되다', '대해', '서', '설명', '하다', '메모리', '저장', '되다', '자료', '우리', '객체', '부르다', '모든', '객체', '자료형', '갖다', '수치', '자료', '경우', '정수', '실수', '로', '구분', '하다', '또는', '문자', '데이터', '올라가다', '하다', '그래서', '각각', '대해', '서', '우리', '자료', '갖다', '붙이', '게', '되다', '모든', '개체', '고유', '갖다', '하다', '객체', '저장', '하다', '공간', '변수', '하다', '그', '공간', '이름', '변수', '명', '하다', '그', '이름', '통해', '서', '객체', '접근', '하다', '수가', '있다', '간단하다', '아래', '객체', '변수', '해해', '보다', '하다', '데이터', '만들다', '즉', '객체', '만들다', '파이썬', '어떻다', '이름', '하다', '값', '적다', '주다', '하다', '예', '들어서다', '에이', '100', '하다', '에이', '백', '갖다', '뜻', '늘다', '같다', '뜻', '아니다', '100', '값', '에이', '넣다', '이야기', '되다', '그래서', '100', '값', '에이', '들어가다', '되다', '때', '내', '부적', '일어나다', '일', '100', '데이터', '생기', '그', '100', '데이터', '객체', '부르다', '객체', '저장', '되다', '저장', '되다', '공간', '우리', '변수', '부르다', '리다', '빨갛다', '박스', '바로', '변수', '되다', '변수', '이름', '하나', '씩', '가다', '붙다', '되다', '그', '이름', '변수', '명', '하다', '여기', '변수', '명', '가다', '붙다', '예제', '그래서', '다음', '부터', '100', '데이터', '가지', '고', '오다', '변수', '명', '에이', '이용', '하다', '가져오다', '되다']\n",
      "['입력', '되다', '데이터', '숫자', '인', '경우', '수치', '데이터', '하다', '문자', '인', '경우', '문자', '데이터', '하다', '다시', '말', '하다', '입력', '되다', '데이터', '각자', '데이터', '유형', '갖다', '되다', '것', '자료형', '하다', '프로그램', '수행', '하다', '그', '프로그램', '다루다', '모든', '데이터', '메모리', '위', '저장', '되어다', '하다', '하다', '그때', '어떻다', '식', '저장', '되다', '대해', '서', '설명', '하다', '메모리', '저장', '되다', '자료', '우리', '객체', '부르다', '모든', '객체', '자료형', '갖다', '수치', '자료', '경우', '정수', '실수', '로', '구분', '하다', '또는', '문자', '데이터', '올라가다', '하다', '그래서', '각각', '대해', '서', '우리', '자료', '갖다', '붙이', '게', '되다', '모든', '개체', '고유', '갖다', '하다', '객체', '저장', '하다', '공간', '변수', '하다', '그', '공간', '이름', '변수', '명', '하다', '그', '이름', '통해', '서', '객체', '접근', '하다', '수가', '있다', '간단하다', '아래', '객체', '변수', '해해', '보다', '하다', '데이터', '만들다', '즉', '객체', '만들다', '파이썬', '어떻다', '이름', '하다', '값', '적다', '주다', '하다', '예', '들어서다', '에이', '100', '하다', '에이', '백', '갖다', '뜻', '늘다', '같다', '뜻', '아니다', '100', '값', '에이', '넣다', '이야기', '되다', '그래서', '100', '값', '에이', '들어가다', '되다', '때', '내', '부적', '일어나다', '일', '100', '데이터', '생기', '그', '100', '데이터', '객체', '부르다', '객체', '저장', '되다', '저장', '되다', '공간', '우리', '변수', '부르다', '리다', '빨갛다', '박스', '바로', '변수', '되다', '변수', '이름', '하나', '씩', '가다', '붙다', '되다', '그', '이름', '변수', '명', '하다', '여기', '변수', '명', '가다', '붙다', '예제', '그래서', '다음', '부터', '100', '데이터', '가지', '고', '오다', '변수', '명', '에이', '이용', '하다', '가져오다', '되다']\n",
      "['입력', '되다', '데이터', '숫자', '인', '경우', '수치', '데이터', '하다', '문자', '인', '경우', '문자', '데이터', '하다', '다시', '말', '하다', '입력', '되다', '데이터', '각자', '데이터', '유형', '갖다', '되다', '것', '자료형', '하다', '프로그램', '수행', '하다', '그', '프로그램', '다루다', '모든', '데이터', '메모리', '위', '저장', '되어다', '하다', '하다', '그때', '어떻다', '식', '저장', '되다', '대해', '서', '설명', '하다', '메모리', '저장', '되다', '자료', '우리', '객체', '부르다', '모든', '객체', '자료형', '갖다', '수치', '자료', '경우', '정수', '실수', '로', '구분', '하다', '또는', '문자', '데이터', '올라가다', '하다', '그래서', '각각', '대해', '서', '우리', '자료', '갖다', '붙이', '게', '되다', '모든', '개체', '고유', '갖다', '하다', '객체', '저장', '하다', '공간', '변수', '하다', '그', '공간', '이름', '변수', '명', '하다', '그', '이름', '통해', '서', '객체', '접근', '하다', '수가', '있다', '간단하다', '아래', '객체', '변수', '해해', '보다', '하다', '데이터', '만들다', '즉', '객체', '만들다', '파이썬', '어떻다', '이름', '하다', '값', '적다', '주다', '하다', '예', '들어서다', '에이', '100', '하다', '에이', '백', '갖다', '뜻', '늘다', '같다', '뜻', '아니다', '100', '값', '에이', '넣다', '이야기', '되다', '그래서', '100', '값', '에이', '들어가다', '되다', '때', '내', '부적', '일어나다', '일', '100', '데이터', '생기', '그', '100', '데이터', '객체', '부르다', '객체', '저장', '되다', '저장', '되다', '공간', '우리', '변수', '부르다', '리다', '빨갛다', '박스', '바로', '변수', '되다', '변수', '이름', '하나', '씩', '가다', '붙다', '되다', '그', '이름', '변수', '명', '하다', '여기', '변수', '명', '가다', '붙다', '예제', '그래서', '다음', '부터', '100', '데이터', '가지', '고', '오다', '변수', '명', '에이', '이용', '하다', '가져오다', '되다']\n"
     ]
    },
    {
     "name": "stdout",
     "output_type": "stream",
     "text": [
      "['입력', '되다', '데이터', '숫자', '인', '경우', '수치', '데이터', '하다', '문자', '인', '경우', '문자', '데이터', '하다', '다시', '말', '하다', '입력', '되다', '데이터', '각자', '데이터', '유형', '갖다', '되다', '것', '자료형', '하다', '프로그램', '수행', '하다', '그', '프로그램', '다루다', '모든', '데이터', '메모리', '위', '저장', '되어다', '하다', '하다', '그때', '어떻다', '식', '저장', '되다', '대해', '서', '설명', '하다', '메모리', '저장', '되다', '자료', '우리', '객체', '부르다', '모든', '객체', '자료형', '갖다', '수치', '자료', '경우', '정수', '실수', '로', '구분', '하다', '또는', '문자', '데이터', '올라가다', '하다', '그래서', '각각', '대해', '서', '우리', '자료', '갖다', '붙이', '게', '되다', '모든', '개체', '고유', '갖다', '하다', '객체', '저장', '하다', '공간', '변수', '하다', '그', '공간', '이름', '변수', '명', '하다', '그', '이름', '통해', '서', '객체', '접근', '하다', '수가', '있다', '간단하다', '아래', '객체', '변수', '해해', '보다', '하다', '데이터', '만들다', '즉', '객체', '만들다', '파이썬', '어떻다', '이름', '하다', '값', '적다', '주다', '하다', '예', '들어서다', '에이', '100', '하다', '에이', '백', '갖다', '뜻', '늘다', '같다', '뜻', '아니다', '100', '값', '에이', '넣다', '이야기', '되다', '그래서', '100', '값', '에이', '들어가다', '되다', '때', '내', '부적', '일어나다', '일', '100', '데이터', '생기', '그', '100', '데이터', '객체', '부르다', '객체', '저장', '되다', '저장', '되다', '공간', '우리', '변수', '부르다', '리다', '빨갛다', '박스', '바로', '변수', '되다', '변수', '이름', '하나', '씩', '가다', '붙다', '되다', '그', '이름', '변수', '명', '하다', '여기', '변수', '명', '가다', '붙다', '예제', '그래서', '다음', '부터', '100', '데이터', '가지', '고', '오다', '변수', '명', '에이', '이용', '하다', '가져오다', '되다']\n",
      "['입력', '되다', '데이터', '숫자', '인', '경우', '수치', '데이터', '하다', '문자', '인', '경우', '문자', '데이터', '하다', '다시', '말', '하다', '입력', '되다', '데이터', '각자', '데이터', '유형', '갖다', '되다', '것', '자료형', '하다', '프로그램', '수행', '하다', '그', '프로그램', '다루다', '모든', '데이터', '메모리', '위', '저장', '되어다', '하다', '하다', '그때', '어떻다', '식', '저장', '되다', '대해', '서', '설명', '하다', '메모리', '저장', '되다', '자료', '우리', '객체', '부르다', '모든', '객체', '자료형', '갖다', '수치', '자료', '경우', '정수', '실수', '로', '구분', '하다', '또는', '문자', '데이터', '올라가다', '하다', '그래서', '각각', '대해', '서', '우리', '자료', '갖다', '붙이', '게', '되다', '모든', '개체', '고유', '갖다', '하다', '객체', '저장', '하다', '공간', '변수', '하다', '그', '공간', '이름', '변수', '명', '하다', '그', '이름', '통해', '서', '객체', '접근', '하다', '수가', '있다', '간단하다', '아래', '객체', '변수', '해해', '보다', '하다', '데이터', '만들다', '즉', '객체', '만들다', '파이썬', '어떻다', '이름', '하다', '값', '적다', '주다', '하다', '예', '들어서다', '에이', '100', '하다', '에이', '백', '갖다', '뜻', '늘다', '같다', '뜻', '아니다', '100', '값', '에이', '넣다', '이야기', '되다', '그래서', '100', '값', '에이', '들어가다', '되다', '때', '내', '부적', '일어나다', '일', '100', '데이터', '생기', '그', '100', '데이터', '객체', '부르다', '객체', '저장', '되다', '저장', '되다', '공간', '우리', '변수', '부르다', '리다', '빨갛다', '박스', '바로', '변수', '되다', '변수', '이름', '하나', '씩', '가다', '붙다', '되다', '그', '이름', '변수', '명', '하다', '여기', '변수', '명', '가다', '붙다', '예제', '그래서', '다음', '부터', '100', '데이터', '가지', '고', '오다', '변수', '명', '에이', '이용', '하다', '가져오다', '되다']\n",
      "['입력', '되다', '데이터', '숫자', '인', '경우', '수치', '데이터', '하다', '문자', '인', '경우', '문자', '데이터', '하다', '다시', '말', '하다', '입력', '되다', '데이터', '각자', '데이터', '유형', '갖다', '되다', '것', '자료형', '하다', '프로그램', '수행', '하다', '그', '프로그램', '다루다', '모든', '데이터', '메모리', '위', '저장', '되어다', '하다', '하다', '그때', '어떻다', '식', '저장', '되다', '대해', '서', '설명', '하다', '메모리', '저장', '되다', '자료', '우리', '객체', '부르다', '모든', '객체', '자료형', '갖다', '수치', '자료', '경우', '정수', '실수', '로', '구분', '하다', '또는', '문자', '데이터', '올라가다', '하다', '그래서', '각각', '대해', '서', '우리', '자료', '갖다', '붙이', '게', '되다', '모든', '개체', '고유', '갖다', '하다', '객체', '저장', '하다', '공간', '변수', '하다', '그', '공간', '이름', '변수', '명', '하다', '그', '이름', '통해', '서', '객체', '접근', '하다', '수가', '있다', '간단하다', '아래', '객체', '변수', '해해', '보다', '하다', '데이터', '만들다', '즉', '객체', '만들다', '파이썬', '어떻다', '이름', '하다', '값', '적다', '주다', '하다', '예', '들어서다', '에이', '100', '하다', '에이', '백', '갖다', '뜻', '늘다', '같다', '뜻', '아니다', '100', '값', '에이', '넣다', '이야기', '되다', '그래서', '100', '값', '에이', '들어가다', '되다', '때', '내', '부적', '일어나다', '일', '100', '데이터', '생기', '그', '100', '데이터', '객체', '부르다', '객체', '저장', '되다', '저장', '되다', '공간', '우리', '변수', '부르다', '리다', '빨갛다', '박스', '바로', '변수', '되다', '변수', '이름', '하나', '씩', '가다', '붙다', '되다', '그', '이름', '변수', '명', '하다', '여기', '변수', '명', '가다', '붙다', '예제', '그래서', '다음', '부터', '100', '데이터', '가지', '고', '오다', '변수', '명', '에이', '이용', '하다', '가져오다', '되다']\n",
      "['입력', '되다', '데이터', '숫자', '인', '경우', '수치', '데이터', '하다', '문자', '인', '경우', '문자', '데이터', '하다', '다시', '말', '하다', '입력', '되다', '데이터', '각자', '데이터', '유형', '갖다', '되다', '것', '자료형', '하다', '프로그램', '수행', '하다', '그', '프로그램', '다루다', '모든', '데이터', '메모리', '위', '저장', '되어다', '하다', '하다', '그때', '어떻다', '식', '저장', '되다', '대해', '서', '설명', '하다', '메모리', '저장', '되다', '자료', '우리', '객체', '부르다', '모든', '객체', '자료형', '갖다', '수치', '자료', '경우', '정수', '실수', '로', '구분', '하다', '또는', '문자', '데이터', '올라가다', '하다', '그래서', '각각', '대해', '서', '우리', '자료', '갖다', '붙이', '게', '되다', '모든', '개체', '고유', '갖다', '하다', '객체', '저장', '하다', '공간', '변수', '하다', '그', '공간', '이름', '변수', '명', '하다', '그', '이름', '통해', '서', '객체', '접근', '하다', '수가', '있다', '간단하다', '아래', '객체', '변수', '해해', '보다', '하다', '데이터', '만들다', '즉', '객체', '만들다', '파이썬', '어떻다', '이름', '하다', '값', '적다', '주다', '하다', '예', '들어서다', '에이', '100', '하다', '에이', '백', '갖다', '뜻', '늘다', '같다', '뜻', '아니다', '100', '값', '에이', '넣다', '이야기', '되다', '그래서', '100', '값', '에이', '들어가다', '되다', '때', '내', '부적', '일어나다', '일', '100', '데이터', '생기', '그', '100', '데이터', '객체', '부르다', '객체', '저장', '되다', '저장', '되다', '공간', '우리', '변수', '부르다', '리다', '빨갛다', '박스', '바로', '변수', '되다', '변수', '이름', '하나', '씩', '가다', '붙다', '되다', '그', '이름', '변수', '명', '하다', '여기', '변수', '명', '가다', '붙다', '예제', '그래서', '다음', '부터', '100', '데이터', '가지', '고', '오다', '변수', '명', '에이', '이용', '하다', '가져오다', '되다']\n",
      "['입력', '되다', '데이터', '숫자', '인', '경우', '수치', '데이터', '하다', '문자', '인', '경우', '문자', '데이터', '하다', '다시', '말', '하다', '입력', '되다', '데이터', '각자', '데이터', '유형', '갖다', '되다', '것', '자료형', '하다', '프로그램', '수행', '하다', '그', '프로그램', '다루다', '모든', '데이터', '메모리', '위', '저장', '되어다', '하다', '하다', '그때', '어떻다', '식', '저장', '되다', '대해', '서', '설명', '하다', '메모리', '저장', '되다', '자료', '우리', '객체', '부르다', '모든', '객체', '자료형', '갖다', '수치', '자료', '경우', '정수', '실수', '로', '구분', '하다', '또는', '문자', '데이터', '올라가다', '하다', '그래서', '각각', '대해', '서', '우리', '자료', '갖다', '붙이', '게', '되다', '모든', '개체', '고유', '갖다', '하다', '객체', '저장', '하다', '공간', '변수', '하다', '그', '공간', '이름', '변수', '명', '하다', '그', '이름', '통해', '서', '객체', '접근', '하다', '수가', '있다', '간단하다', '아래', '객체', '변수', '해해', '보다', '하다', '데이터', '만들다', '즉', '객체', '만들다', '파이썬', '어떻다', '이름', '하다', '값', '적다', '주다', '하다', '예', '들어서다', '에이', '100', '하다', '에이', '백', '갖다', '뜻', '늘다', '같다', '뜻', '아니다', '100', '값', '에이', '넣다', '이야기', '되다', '그래서', '100', '값', '에이', '들어가다', '되다', '때', '내', '부적', '일어나다', '일', '100', '데이터', '생기', '그', '100', '데이터', '객체', '부르다', '객체', '저장', '되다', '저장', '되다', '공간', '우리', '변수', '부르다', '리다', '빨갛다', '박스', '바로', '변수', '되다', '변수', '이름', '하나', '씩', '가다', '붙다', '되다', '그', '이름', '변수', '명', '하다', '여기', '변수', '명', '가다', '붙다', '예제', '그래서', '다음', '부터', '100', '데이터', '가지', '고', '오다', '변수', '명', '에이', '이용', '하다', '가져오다', '되다']\n",
      "['입력', '되다', '데이터', '숫자', '인', '경우', '수치', '데이터', '하다', '문자', '인', '경우', '문자', '데이터', '하다', '다시', '말', '하다', '입력', '되다', '데이터', '각자', '데이터', '유형', '갖다', '되다', '것', '자료형', '하다', '프로그램', '수행', '하다', '그', '프로그램', '다루다', '모든', '데이터', '메모리', '위', '저장', '되어다', '하다', '하다', '그때', '어떻다', '식', '저장', '되다', '대해', '서', '설명', '하다', '메모리', '저장', '되다', '자료', '우리', '객체', '부르다', '모든', '객체', '자료형', '갖다', '수치', '자료', '경우', '정수', '실수', '로', '구분', '하다', '또는', '문자', '데이터', '올라가다', '하다', '그래서', '각각', '대해', '서', '우리', '자료', '갖다', '붙이', '게', '되다', '모든', '개체', '고유', '갖다', '하다', '객체', '저장', '하다', '공간', '변수', '하다', '그', '공간', '이름', '변수', '명', '하다', '그', '이름', '통해', '서', '객체', '접근', '하다', '수가', '있다', '간단하다', '아래', '객체', '변수', '해해', '보다', '하다', '데이터', '만들다', '즉', '객체', '만들다', '파이썬', '어떻다', '이름', '하다', '값', '적다', '주다', '하다', '예', '들어서다', '에이', '100', '하다', '에이', '백', '갖다', '뜻', '늘다', '같다', '뜻', '아니다', '100', '값', '에이', '넣다', '이야기', '되다', '그래서', '100', '값', '에이', '들어가다', '되다', '때', '내', '부적', '일어나다', '일', '100', '데이터', '생기', '그', '100', '데이터', '객체', '부르다', '객체', '저장', '되다', '저장', '되다', '공간', '우리', '변수', '부르다', '리다', '빨갛다', '박스', '바로', '변수', '되다', '변수', '이름', '하나', '씩', '가다', '붙다', '되다', '그', '이름', '변수', '명', '하다', '여기', '변수', '명', '가다', '붙다', '예제', '그래서', '다음', '부터', '100', '데이터', '가지', '고', '오다', '변수', '명', '에이', '이용', '하다', '가져오다', '되다']\n",
      "['입력', '되다', '데이터', '숫자', '인', '경우', '수치', '데이터', '하다', '문자', '인', '경우', '문자', '데이터', '하다', '다시', '말', '하다', '입력', '되다', '데이터', '각자', '데이터', '유형', '갖다', '되다', '것', '자료형', '하다', '프로그램', '수행', '하다', '그', '프로그램', '다루다', '모든', '데이터', '메모리', '위', '저장', '되어다', '하다', '하다', '그때', '어떻다', '식', '저장', '되다', '대해', '서', '설명', '하다', '메모리', '저장', '되다', '자료', '우리', '객체', '부르다', '모든', '객체', '자료형', '갖다', '수치', '자료', '경우', '정수', '실수', '로', '구분', '하다', '또는', '문자', '데이터', '올라가다', '하다', '그래서', '각각', '대해', '서', '우리', '자료', '갖다', '붙이', '게', '되다', '모든', '개체', '고유', '갖다', '하다', '객체', '저장', '하다', '공간', '변수', '하다', '그', '공간', '이름', '변수', '명', '하다', '그', '이름', '통해', '서', '객체', '접근', '하다', '수가', '있다', '간단하다', '아래', '객체', '변수', '해해', '보다', '하다', '데이터', '만들다', '즉', '객체', '만들다', '파이썬', '어떻다', '이름', '하다', '값', '적다', '주다', '하다', '예', '들어서다', '에이', '100', '하다', '에이', '백', '갖다', '뜻', '늘다', '같다', '뜻', '아니다', '100', '값', '에이', '넣다', '이야기', '되다', '그래서', '100', '값', '에이', '들어가다', '되다', '때', '내', '부적', '일어나다', '일', '100', '데이터', '생기', '그', '100', '데이터', '객체', '부르다', '객체', '저장', '되다', '저장', '되다', '공간', '우리', '변수', '부르다', '리다', '빨갛다', '박스', '바로', '변수', '되다', '변수', '이름', '하나', '씩', '가다', '붙다', '되다', '그', '이름', '변수', '명', '하다', '여기', '변수', '명', '가다', '붙다', '예제', '그래서', '다음', '부터', '100', '데이터', '가지', '고', '오다', '변수', '명', '에이', '이용', '하다', '가져오다', '되다']\n"
     ]
    },
    {
     "name": "stdout",
     "output_type": "stream",
     "text": [
      "['입력', '되다', '데이터', '숫자', '인', '경우', '수치', '데이터', '하다', '문자', '인', '경우', '문자', '데이터', '하다', '다시', '말', '하다', '입력', '되다', '데이터', '각자', '데이터', '유형', '갖다', '되다', '것', '자료형', '하다', '프로그램', '수행', '하다', '그', '프로그램', '다루다', '모든', '데이터', '메모리', '위', '저장', '되어다', '하다', '하다', '그때', '어떻다', '식', '저장', '되다', '대해', '서', '설명', '하다', '메모리', '저장', '되다', '자료', '우리', '객체', '부르다', '모든', '객체', '자료형', '갖다', '수치', '자료', '경우', '정수', '실수', '로', '구분', '하다', '또는', '문자', '데이터', '올라가다', '하다', '그래서', '각각', '대해', '서', '우리', '자료', '갖다', '붙이', '게', '되다', '모든', '개체', '고유', '갖다', '하다', '객체', '저장', '하다', '공간', '변수', '하다', '그', '공간', '이름', '변수', '명', '하다', '그', '이름', '통해', '서', '객체', '접근', '하다', '수가', '있다', '간단하다', '아래', '객체', '변수', '해해', '보다', '하다', '데이터', '만들다', '즉', '객체', '만들다', '파이썬', '어떻다', '이름', '하다', '값', '적다', '주다', '하다', '예', '들어서다', '에이', '100', '하다', '에이', '백', '갖다', '뜻', '늘다', '같다', '뜻', '아니다', '100', '값', '에이', '넣다', '이야기', '되다', '그래서', '100', '값', '에이', '들어가다', '되다', '때', '내', '부적', '일어나다', '일', '100', '데이터', '생기', '그', '100', '데이터', '객체', '부르다', '객체', '저장', '되다', '저장', '되다', '공간', '우리', '변수', '부르다', '리다', '빨갛다', '박스', '바로', '변수', '되다', '변수', '이름', '하나', '씩', '가다', '붙다', '되다', '그', '이름', '변수', '명', '하다', '여기', '변수', '명', '가다', '붙다', '예제', '그래서', '다음', '부터', '100', '데이터', '가지', '고', '오다', '변수', '명', '에이', '이용', '하다', '가져오다', '되다']\n",
      "['입력', '되다', '데이터', '숫자', '인', '경우', '수치', '데이터', '하다', '문자', '인', '경우', '문자', '데이터', '하다', '다시', '말', '하다', '입력', '되다', '데이터', '각자', '데이터', '유형', '갖다', '되다', '것', '자료형', '하다', '프로그램', '수행', '하다', '그', '프로그램', '다루다', '모든', '데이터', '메모리', '위', '저장', '되어다', '하다', '하다', '그때', '어떻다', '식', '저장', '되다', '대해', '서', '설명', '하다', '메모리', '저장', '되다', '자료', '우리', '객체', '부르다', '모든', '객체', '자료형', '갖다', '수치', '자료', '경우', '정수', '실수', '로', '구분', '하다', '또는', '문자', '데이터', '올라가다', '하다', '그래서', '각각', '대해', '서', '우리', '자료', '갖다', '붙이', '게', '되다', '모든', '개체', '고유', '갖다', '하다', '객체', '저장', '하다', '공간', '변수', '하다', '그', '공간', '이름', '변수', '명', '하다', '그', '이름', '통해', '서', '객체', '접근', '하다', '수가', '있다', '간단하다', '아래', '객체', '변수', '해해', '보다', '하다', '데이터', '만들다', '즉', '객체', '만들다', '파이썬', '어떻다', '이름', '하다', '값', '적다', '주다', '하다', '예', '들어서다', '에이', '100', '하다', '에이', '백', '갖다', '뜻', '늘다', '같다', '뜻', '아니다', '100', '값', '에이', '넣다', '이야기', '되다', '그래서', '100', '값', '에이', '들어가다', '되다', '때', '내', '부적', '일어나다', '일', '100', '데이터', '생기', '그', '100', '데이터', '객체', '부르다', '객체', '저장', '되다', '저장', '되다', '공간', '우리', '변수', '부르다', '리다', '빨갛다', '박스', '바로', '변수', '되다', '변수', '이름', '하나', '씩', '가다', '붙다', '되다', '그', '이름', '변수', '명', '하다', '여기', '변수', '명', '가다', '붙다', '예제', '그래서', '다음', '부터', '100', '데이터', '가지', '고', '오다', '변수', '명', '에이', '이용', '하다', '가져오다', '되다']\n",
      "['입력', '되다', '데이터', '숫자', '인', '경우', '수치', '데이터', '하다', '문자', '인', '경우', '문자', '데이터', '하다', '다시', '말', '하다', '입력', '되다', '데이터', '각자', '데이터', '유형', '갖다', '되다', '것', '자료형', '하다', '프로그램', '수행', '하다', '그', '프로그램', '다루다', '모든', '데이터', '메모리', '위', '저장', '되어다', '하다', '하다', '그때', '어떻다', '식', '저장', '되다', '대해', '서', '설명', '하다', '메모리', '저장', '되다', '자료', '우리', '객체', '부르다', '모든', '객체', '자료형', '갖다', '수치', '자료', '경우', '정수', '실수', '로', '구분', '하다', '또는', '문자', '데이터', '올라가다', '하다', '그래서', '각각', '대해', '서', '우리', '자료', '갖다', '붙이', '게', '되다', '모든', '개체', '고유', '갖다', '하다', '객체', '저장', '하다', '공간', '변수', '하다', '그', '공간', '이름', '변수', '명', '하다', '그', '이름', '통해', '서', '객체', '접근', '하다', '수가', '있다', '간단하다', '아래', '객체', '변수', '해해', '보다', '하다', '데이터', '만들다', '즉', '객체', '만들다', '파이썬', '어떻다', '이름', '하다', '값', '적다', '주다', '하다', '예', '들어서다', '에이', '100', '하다', '에이', '백', '갖다', '뜻', '늘다', '같다', '뜻', '아니다', '100', '값', '에이', '넣다', '이야기', '되다', '그래서', '100', '값', '에이', '들어가다', '되다', '때', '내', '부적', '일어나다', '일', '100', '데이터', '생기', '그', '100', '데이터', '객체', '부르다', '객체', '저장', '되다', '저장', '되다', '공간', '우리', '변수', '부르다', '리다', '빨갛다', '박스', '바로', '변수', '되다', '변수', '이름', '하나', '씩', '가다', '붙다', '되다', '그', '이름', '변수', '명', '하다', '여기', '변수', '명', '가다', '붙다', '예제', '그래서', '다음', '부터', '100', '데이터', '가지', '고', '오다', '변수', '명', '에이', '이용', '하다', '가져오다', '되다']\n",
      "['입력', '되다', '데이터', '숫자', '인', '경우', '수치', '데이터', '하다', '문자', '인', '경우', '문자', '데이터', '하다', '다시', '말', '하다', '입력', '되다', '데이터', '각자', '데이터', '유형', '갖다', '되다', '것', '자료형', '하다', '프로그램', '수행', '하다', '그', '프로그램', '다루다', '모든', '데이터', '메모리', '위', '저장', '되어다', '하다', '하다', '그때', '어떻다', '식', '저장', '되다', '대해', '서', '설명', '하다', '메모리', '저장', '되다', '자료', '우리', '객체', '부르다', '모든', '객체', '자료형', '갖다', '수치', '자료', '경우', '정수', '실수', '로', '구분', '하다', '또는', '문자', '데이터', '올라가다', '하다', '그래서', '각각', '대해', '서', '우리', '자료', '갖다', '붙이', '게', '되다', '모든', '개체', '고유', '갖다', '하다', '객체', '저장', '하다', '공간', '변수', '하다', '그', '공간', '이름', '변수', '명', '하다', '그', '이름', '통해', '서', '객체', '접근', '하다', '수가', '있다', '간단하다', '아래', '객체', '변수', '해해', '보다', '하다', '데이터', '만들다', '즉', '객체', '만들다', '파이썬', '어떻다', '이름', '하다', '값', '적다', '주다', '하다', '예', '들어서다', '에이', '100', '하다', '에이', '백', '갖다', '뜻', '늘다', '같다', '뜻', '아니다', '100', '값', '에이', '넣다', '이야기', '되다', '그래서', '100', '값', '에이', '들어가다', '되다', '때', '내', '부적', '일어나다', '일', '100', '데이터', '생기', '그', '100', '데이터', '객체', '부르다', '객체', '저장', '되다', '저장', '되다', '공간', '우리', '변수', '부르다', '리다', '빨갛다', '박스', '바로', '변수', '되다', '변수', '이름', '하나', '씩', '가다', '붙다', '되다', '그', '이름', '변수', '명', '하다', '여기', '변수', '명', '가다', '붙다', '예제', '그래서', '다음', '부터', '100', '데이터', '가지', '고', '오다', '변수', '명', '에이', '이용', '하다', '가져오다', '되다']\n",
      "['입력', '되다', '데이터', '숫자', '인', '경우', '수치', '데이터', '하다', '문자', '인', '경우', '문자', '데이터', '하다', '다시', '말', '하다', '입력', '되다', '데이터', '각자', '데이터', '유형', '갖다', '되다', '것', '자료형', '하다', '프로그램', '수행', '하다', '그', '프로그램', '다루다', '모든', '데이터', '메모리', '위', '저장', '되어다', '하다', '하다', '그때', '어떻다', '식', '저장', '되다', '대해', '서', '설명', '하다', '메모리', '저장', '되다', '자료', '우리', '객체', '부르다', '모든', '객체', '자료형', '갖다', '수치', '자료', '경우', '정수', '실수', '로', '구분', '하다', '또는', '문자', '데이터', '올라가다', '하다', '그래서', '각각', '대해', '서', '우리', '자료', '갖다', '붙이', '게', '되다', '모든', '개체', '고유', '갖다', '하다', '객체', '저장', '하다', '공간', '변수', '하다', '그', '공간', '이름', '변수', '명', '하다', '그', '이름', '통해', '서', '객체', '접근', '하다', '수가', '있다', '간단하다', '아래', '객체', '변수', '해해', '보다', '하다', '데이터', '만들다', '즉', '객체', '만들다', '파이썬', '어떻다', '이름', '하다', '값', '적다', '주다', '하다', '예', '들어서다', '에이', '100', '하다', '에이', '백', '갖다', '뜻', '늘다', '같다', '뜻', '아니다', '100', '값', '에이', '넣다', '이야기', '되다', '그래서', '100', '값', '에이', '들어가다', '되다', '때', '내', '부적', '일어나다', '일', '100', '데이터', '생기', '그', '100', '데이터', '객체', '부르다', '객체', '저장', '되다', '저장', '되다', '공간', '우리', '변수', '부르다', '리다', '빨갛다', '박스', '바로', '변수', '되다', '변수', '이름', '하나', '씩', '가다', '붙다', '되다', '그', '이름', '변수', '명', '하다', '여기', '변수', '명', '가다', '붙다', '예제', '그래서', '다음', '부터', '100', '데이터', '가지', '고', '오다', '변수', '명', '에이', '이용', '하다', '가져오다', '되다']\n",
      "['입력', '되다', '데이터', '숫자', '인', '경우', '수치', '데이터', '하다', '문자', '인', '경우', '문자', '데이터', '하다', '다시', '말', '하다', '입력', '되다', '데이터', '각자', '데이터', '유형', '갖다', '되다', '것', '자료형', '하다', '프로그램', '수행', '하다', '그', '프로그램', '다루다', '모든', '데이터', '메모리', '위', '저장', '되어다', '하다', '하다', '그때', '어떻다', '식', '저장', '되다', '대해', '서', '설명', '하다', '메모리', '저장', '되다', '자료', '우리', '객체', '부르다', '모든', '객체', '자료형', '갖다', '수치', '자료', '경우', '정수', '실수', '로', '구분', '하다', '또는', '문자', '데이터', '올라가다', '하다', '그래서', '각각', '대해', '서', '우리', '자료', '갖다', '붙이', '게', '되다', '모든', '개체', '고유', '갖다', '하다', '객체', '저장', '하다', '공간', '변수', '하다', '그', '공간', '이름', '변수', '명', '하다', '그', '이름', '통해', '서', '객체', '접근', '하다', '수가', '있다', '간단하다', '아래', '객체', '변수', '해해', '보다', '하다', '데이터', '만들다', '즉', '객체', '만들다', '파이썬', '어떻다', '이름', '하다', '값', '적다', '주다', '하다', '예', '들어서다', '에이', '100', '하다', '에이', '백', '갖다', '뜻', '늘다', '같다', '뜻', '아니다', '100', '값', '에이', '넣다', '이야기', '되다', '그래서', '100', '값', '에이', '들어가다', '되다', '때', '내', '부적', '일어나다', '일', '100', '데이터', '생기', '그', '100', '데이터', '객체', '부르다', '객체', '저장', '되다', '저장', '되다', '공간', '우리', '변수', '부르다', '리다', '빨갛다', '박스', '바로', '변수', '되다', '변수', '이름', '하나', '씩', '가다', '붙다', '되다', '그', '이름', '변수', '명', '하다', '여기', '변수', '명', '가다', '붙다', '예제', '그래서', '다음', '부터', '100', '데이터', '가지', '고', '오다', '변수', '명', '에이', '이용', '하다', '가져오다', '되다']\n",
      "['입력', '되다', '데이터', '숫자', '인', '경우', '수치', '데이터', '하다', '문자', '인', '경우', '문자', '데이터', '하다', '다시', '말', '하다', '입력', '되다', '데이터', '각자', '데이터', '유형', '갖다', '되다', '것', '자료형', '하다', '프로그램', '수행', '하다', '그', '프로그램', '다루다', '모든', '데이터', '메모리', '위', '저장', '되어다', '하다', '하다', '그때', '어떻다', '식', '저장', '되다', '대해', '서', '설명', '하다', '메모리', '저장', '되다', '자료', '우리', '객체', '부르다', '모든', '객체', '자료형', '갖다', '수치', '자료', '경우', '정수', '실수', '로', '구분', '하다', '또는', '문자', '데이터', '올라가다', '하다', '그래서', '각각', '대해', '서', '우리', '자료', '갖다', '붙이', '게', '되다', '모든', '개체', '고유', '갖다', '하다', '객체', '저장', '하다', '공간', '변수', '하다', '그', '공간', '이름', '변수', '명', '하다', '그', '이름', '통해', '서', '객체', '접근', '하다', '수가', '있다', '간단하다', '아래', '객체', '변수', '해해', '보다', '하다', '데이터', '만들다', '즉', '객체', '만들다', '파이썬', '어떻다', '이름', '하다', '값', '적다', '주다', '하다', '예', '들어서다', '에이', '100', '하다', '에이', '백', '갖다', '뜻', '늘다', '같다', '뜻', '아니다', '100', '값', '에이', '넣다', '이야기', '되다', '그래서', '100', '값', '에이', '들어가다', '되다', '때', '내', '부적', '일어나다', '일', '100', '데이터', '생기', '그', '100', '데이터', '객체', '부르다', '객체', '저장', '되다', '저장', '되다', '공간', '우리', '변수', '부르다', '리다', '빨갛다', '박스', '바로', '변수', '되다', '변수', '이름', '하나', '씩', '가다', '붙다', '되다', '그', '이름', '변수', '명', '하다', '여기', '변수', '명', '가다', '붙다', '예제', '그래서', '다음', '부터', '100', '데이터', '가지', '고', '오다', '변수', '명', '에이', '이용', '하다', '가져오다', '되다']\n"
     ]
    },
    {
     "name": "stdout",
     "output_type": "stream",
     "text": [
      "['입력', '되다', '데이터', '숫자', '인', '경우', '수치', '데이터', '하다', '문자', '인', '경우', '문자', '데이터', '하다', '다시', '말', '하다', '입력', '되다', '데이터', '각자', '데이터', '유형', '갖다', '되다', '것', '자료형', '하다', '프로그램', '수행', '하다', '그', '프로그램', '다루다', '모든', '데이터', '메모리', '위', '저장', '되어다', '하다', '하다', '그때', '어떻다', '식', '저장', '되다', '대해', '서', '설명', '하다', '메모리', '저장', '되다', '자료', '우리', '객체', '부르다', '모든', '객체', '자료형', '갖다', '수치', '자료', '경우', '정수', '실수', '로', '구분', '하다', '또는', '문자', '데이터', '올라가다', '하다', '그래서', '각각', '대해', '서', '우리', '자료', '갖다', '붙이', '게', '되다', '모든', '개체', '고유', '갖다', '하다', '객체', '저장', '하다', '공간', '변수', '하다', '그', '공간', '이름', '변수', '명', '하다', '그', '이름', '통해', '서', '객체', '접근', '하다', '수가', '있다', '간단하다', '아래', '객체', '변수', '해해', '보다', '하다', '데이터', '만들다', '즉', '객체', '만들다', '파이썬', '어떻다', '이름', '하다', '값', '적다', '주다', '하다', '예', '들어서다', '에이', '100', '하다', '에이', '백', '갖다', '뜻', '늘다', '같다', '뜻', '아니다', '100', '값', '에이', '넣다', '이야기', '되다', '그래서', '100', '값', '에이', '들어가다', '되다', '때', '내', '부적', '일어나다', '일', '100', '데이터', '생기', '그', '100', '데이터', '객체', '부르다', '객체', '저장', '되다', '저장', '되다', '공간', '우리', '변수', '부르다', '리다', '빨갛다', '박스', '바로', '변수', '되다', '변수', '이름', '하나', '씩', '가다', '붙다', '되다', '그', '이름', '변수', '명', '하다', '여기', '변수', '명', '가다', '붙다', '예제', '그래서', '다음', '부터', '100', '데이터', '가지', '고', '오다', '변수', '명', '에이', '이용', '하다', '가져오다', '되다']\n",
      "['입력', '되다', '데이터', '숫자', '인', '경우', '수치', '데이터', '하다', '문자', '인', '경우', '문자', '데이터', '하다', '다시', '말', '하다', '입력', '되다', '데이터', '각자', '데이터', '유형', '갖다', '되다', '것', '자료형', '하다', '프로그램', '수행', '하다', '그', '프로그램', '다루다', '모든', '데이터', '메모리', '위', '저장', '되어다', '하다', '하다', '그때', '어떻다', '식', '저장', '되다', '대해', '서', '설명', '하다', '메모리', '저장', '되다', '자료', '우리', '객체', '부르다', '모든', '객체', '자료형', '갖다', '수치', '자료', '경우', '정수', '실수', '로', '구분', '하다', '또는', '문자', '데이터', '올라가다', '하다', '그래서', '각각', '대해', '서', '우리', '자료', '갖다', '붙이', '게', '되다', '모든', '개체', '고유', '갖다', '하다', '객체', '저장', '하다', '공간', '변수', '하다', '그', '공간', '이름', '변수', '명', '하다', '그', '이름', '통해', '서', '객체', '접근', '하다', '수가', '있다', '간단하다', '아래', '객체', '변수', '해해', '보다', '하다', '데이터', '만들다', '즉', '객체', '만들다', '파이썬', '어떻다', '이름', '하다', '값', '적다', '주다', '하다', '예', '들어서다', '에이', '100', '하다', '에이', '백', '갖다', '뜻', '늘다', '같다', '뜻', '아니다', '100', '값', '에이', '넣다', '이야기', '되다', '그래서', '100', '값', '에이', '들어가다', '되다', '때', '내', '부적', '일어나다', '일', '100', '데이터', '생기', '그', '100', '데이터', '객체', '부르다', '객체', '저장', '되다', '저장', '되다', '공간', '우리', '변수', '부르다', '리다', '빨갛다', '박스', '바로', '변수', '되다', '변수', '이름', '하나', '씩', '가다', '붙다', '되다', '그', '이름', '변수', '명', '하다', '여기', '변수', '명', '가다', '붙다', '예제', '그래서', '다음', '부터', '100', '데이터', '가지', '고', '오다', '변수', '명', '에이', '이용', '하다', '가져오다', '되다']\n",
      "['입력', '되다', '데이터', '숫자', '인', '경우', '수치', '데이터', '하다', '문자', '인', '경우', '문자', '데이터', '하다', '다시', '말', '하다', '입력', '되다', '데이터', '각자', '데이터', '유형', '갖다', '되다', '것', '자료형', '하다', '프로그램', '수행', '하다', '그', '프로그램', '다루다', '모든', '데이터', '메모리', '위', '저장', '되어다', '하다', '하다', '그때', '어떻다', '식', '저장', '되다', '대해', '서', '설명', '하다', '메모리', '저장', '되다', '자료', '우리', '객체', '부르다', '모든', '객체', '자료형', '갖다', '수치', '자료', '경우', '정수', '실수', '로', '구분', '하다', '또는', '문자', '데이터', '올라가다', '하다', '그래서', '각각', '대해', '서', '우리', '자료', '갖다', '붙이', '게', '되다', '모든', '개체', '고유', '갖다', '하다', '객체', '저장', '하다', '공간', '변수', '하다', '그', '공간', '이름', '변수', '명', '하다', '그', '이름', '통해', '서', '객체', '접근', '하다', '수가', '있다', '간단하다', '아래', '객체', '변수', '해해', '보다', '하다', '데이터', '만들다', '즉', '객체', '만들다', '파이썬', '어떻다', '이름', '하다', '값', '적다', '주다', '하다', '예', '들어서다', '에이', '100', '하다', '에이', '백', '갖다', '뜻', '늘다', '같다', '뜻', '아니다', '100', '값', '에이', '넣다', '이야기', '되다', '그래서', '100', '값', '에이', '들어가다', '되다', '때', '내', '부적', '일어나다', '일', '100', '데이터', '생기', '그', '100', '데이터', '객체', '부르다', '객체', '저장', '되다', '저장', '되다', '공간', '우리', '변수', '부르다', '리다', '빨갛다', '박스', '바로', '변수', '되다', '변수', '이름', '하나', '씩', '가다', '붙다', '되다', '그', '이름', '변수', '명', '하다', '여기', '변수', '명', '가다', '붙다', '예제', '그래서', '다음', '부터', '100', '데이터', '가지', '고', '오다', '변수', '명', '에이', '이용', '하다', '가져오다', '되다']\n",
      "['입력', '되다', '데이터', '숫자', '인', '경우', '수치', '데이터', '하다', '문자', '인', '경우', '문자', '데이터', '하다', '다시', '말', '하다', '입력', '되다', '데이터', '각자', '데이터', '유형', '갖다', '되다', '것', '자료형', '하다', '프로그램', '수행', '하다', '그', '프로그램', '다루다', '모든', '데이터', '메모리', '위', '저장', '되어다', '하다', '하다', '그때', '어떻다', '식', '저장', '되다', '대해', '서', '설명', '하다', '메모리', '저장', '되다', '자료', '우리', '객체', '부르다', '모든', '객체', '자료형', '갖다', '수치', '자료', '경우', '정수', '실수', '로', '구분', '하다', '또는', '문자', '데이터', '올라가다', '하다', '그래서', '각각', '대해', '서', '우리', '자료', '갖다', '붙이', '게', '되다', '모든', '개체', '고유', '갖다', '하다', '객체', '저장', '하다', '공간', '변수', '하다', '그', '공간', '이름', '변수', '명', '하다', '그', '이름', '통해', '서', '객체', '접근', '하다', '수가', '있다', '간단하다', '아래', '객체', '변수', '해해', '보다', '하다', '데이터', '만들다', '즉', '객체', '만들다', '파이썬', '어떻다', '이름', '하다', '값', '적다', '주다', '하다', '예', '들어서다', '에이', '100', '하다', '에이', '백', '갖다', '뜻', '늘다', '같다', '뜻', '아니다', '100', '값', '에이', '넣다', '이야기', '되다', '그래서', '100', '값', '에이', '들어가다', '되다', '때', '내', '부적', '일어나다', '일', '100', '데이터', '생기', '그', '100', '데이터', '객체', '부르다', '객체', '저장', '되다', '저장', '되다', '공간', '우리', '변수', '부르다', '리다', '빨갛다', '박스', '바로', '변수', '되다', '변수', '이름', '하나', '씩', '가다', '붙다', '되다', '그', '이름', '변수', '명', '하다', '여기', '변수', '명', '가다', '붙다', '예제', '그래서', '다음', '부터', '100', '데이터', '가지', '고', '오다', '변수', '명', '에이', '이용', '하다', '가져오다', '되다']\n",
      "['입력', '되다', '데이터', '숫자', '인', '경우', '수치', '데이터', '하다', '문자', '인', '경우', '문자', '데이터', '하다', '다시', '말', '하다', '입력', '되다', '데이터', '각자', '데이터', '유형', '갖다', '되다', '것', '자료형', '하다', '프로그램', '수행', '하다', '그', '프로그램', '다루다', '모든', '데이터', '메모리', '위', '저장', '되어다', '하다', '하다', '그때', '어떻다', '식', '저장', '되다', '대해', '서', '설명', '하다', '메모리', '저장', '되다', '자료', '우리', '객체', '부르다', '모든', '객체', '자료형', '갖다', '수치', '자료', '경우', '정수', '실수', '로', '구분', '하다', '또는', '문자', '데이터', '올라가다', '하다', '그래서', '각각', '대해', '서', '우리', '자료', '갖다', '붙이', '게', '되다', '모든', '개체', '고유', '갖다', '하다', '객체', '저장', '하다', '공간', '변수', '하다', '그', '공간', '이름', '변수', '명', '하다', '그', '이름', '통해', '서', '객체', '접근', '하다', '수가', '있다', '간단하다', '아래', '객체', '변수', '해해', '보다', '하다', '데이터', '만들다', '즉', '객체', '만들다', '파이썬', '어떻다', '이름', '하다', '값', '적다', '주다', '하다', '예', '들어서다', '에이', '100', '하다', '에이', '백', '갖다', '뜻', '늘다', '같다', '뜻', '아니다', '100', '값', '에이', '넣다', '이야기', '되다', '그래서', '100', '값', '에이', '들어가다', '되다', '때', '내', '부적', '일어나다', '일', '100', '데이터', '생기', '그', '100', '데이터', '객체', '부르다', '객체', '저장', '되다', '저장', '되다', '공간', '우리', '변수', '부르다', '리다', '빨갛다', '박스', '바로', '변수', '되다', '변수', '이름', '하나', '씩', '가다', '붙다', '되다', '그', '이름', '변수', '명', '하다', '여기', '변수', '명', '가다', '붙다', '예제', '그래서', '다음', '부터', '100', '데이터', '가지', '고', '오다', '변수', '명', '에이', '이용', '하다', '가져오다', '되다']\n",
      "['입력', '되다', '데이터', '숫자', '인', '경우', '수치', '데이터', '하다', '문자', '인', '경우', '문자', '데이터', '하다', '다시', '말', '하다', '입력', '되다', '데이터', '각자', '데이터', '유형', '갖다', '되다', '것', '자료형', '하다', '프로그램', '수행', '하다', '그', '프로그램', '다루다', '모든', '데이터', '메모리', '위', '저장', '되어다', '하다', '하다', '그때', '어떻다', '식', '저장', '되다', '대해', '서', '설명', '하다', '메모리', '저장', '되다', '자료', '우리', '객체', '부르다', '모든', '객체', '자료형', '갖다', '수치', '자료', '경우', '정수', '실수', '로', '구분', '하다', '또는', '문자', '데이터', '올라가다', '하다', '그래서', '각각', '대해', '서', '우리', '자료', '갖다', '붙이', '게', '되다', '모든', '개체', '고유', '갖다', '하다', '객체', '저장', '하다', '공간', '변수', '하다', '그', '공간', '이름', '변수', '명', '하다', '그', '이름', '통해', '서', '객체', '접근', '하다', '수가', '있다', '간단하다', '아래', '객체', '변수', '해해', '보다', '하다', '데이터', '만들다', '즉', '객체', '만들다', '파이썬', '어떻다', '이름', '하다', '값', '적다', '주다', '하다', '예', '들어서다', '에이', '100', '하다', '에이', '백', '갖다', '뜻', '늘다', '같다', '뜻', '아니다', '100', '값', '에이', '넣다', '이야기', '되다', '그래서', '100', '값', '에이', '들어가다', '되다', '때', '내', '부적', '일어나다', '일', '100', '데이터', '생기', '그', '100', '데이터', '객체', '부르다', '객체', '저장', '되다', '저장', '되다', '공간', '우리', '변수', '부르다', '리다', '빨갛다', '박스', '바로', '변수', '되다', '변수', '이름', '하나', '씩', '가다', '붙다', '되다', '그', '이름', '변수', '명', '하다', '여기', '변수', '명', '가다', '붙다', '예제', '그래서', '다음', '부터', '100', '데이터', '가지', '고', '오다', '변수', '명', '에이', '이용', '하다', '가져오다', '되다']\n"
     ]
    },
    {
     "ename": "KeyboardInterrupt",
     "evalue": "",
     "output_type": "error",
     "traceback": [
      "\u001b[1;31m---------------------------------------------------------------------------\u001b[0m",
      "\u001b[1;31mKeyboardInterrupt\u001b[0m                         Traceback (most recent call last)",
      "\u001b[1;32m<ipython-input-43-d5e3b45544be>\u001b[0m in \u001b[0;36m<module>\u001b[1;34m\u001b[0m\n\u001b[0;32m      9\u001b[0m \u001b[1;32mfor\u001b[0m \u001b[0mi\u001b[0m \u001b[1;32min\u001b[0m \u001b[0mrange\u001b[0m\u001b[1;33m(\u001b[0m\u001b[0mlen\u001b[0m\u001b[1;33m(\u001b[0m\u001b[0mnoun_adj_list\u001b[0m\u001b[1;33m)\u001b[0m\u001b[1;33m)\u001b[0m\u001b[1;33m:\u001b[0m\u001b[1;33m\u001b[0m\u001b[1;33m\u001b[0m\u001b[0m\n\u001b[0;32m     10\u001b[0m     \u001b[1;31m#print(lemmatize(noun_adj_list[i]))\u001b[0m\u001b[1;33m\u001b[0m\u001b[1;33m\u001b[0m\u001b[1;33m\u001b[0m\u001b[0m\n\u001b[1;32m---> 11\u001b[1;33m     \u001b[1;32mif\u001b[0m \u001b[0mlemmatize\u001b[0m\u001b[1;33m(\u001b[0m\u001b[0mnoun_adj_list\u001b[0m\u001b[1;33m[\u001b[0m\u001b[0mi\u001b[0m\u001b[1;33m]\u001b[0m\u001b[1;33m)\u001b[0m \u001b[1;33m!=\u001b[0m \u001b[1;32mNone\u001b[0m \u001b[1;33m:\u001b[0m\u001b[1;33m\u001b[0m\u001b[1;33m\u001b[0m\u001b[0m\n\u001b[0m\u001b[0;32m     12\u001b[0m         \u001b[0mnoun_adj_list\u001b[0m\u001b[1;33m[\u001b[0m\u001b[0mi\u001b[0m\u001b[1;33m]\u001b[0m \u001b[1;33m=\u001b[0m \u001b[0mlemmatize\u001b[0m\u001b[1;33m(\u001b[0m\u001b[0mnoun_adj_list\u001b[0m\u001b[1;33m[\u001b[0m\u001b[0mi\u001b[0m\u001b[1;33m]\u001b[0m\u001b[1;33m)\u001b[0m\u001b[1;33m\u001b[0m\u001b[1;33m\u001b[0m\u001b[0m\n\u001b[0;32m     13\u001b[0m         \u001b[0mprint\u001b[0m\u001b[1;33m(\u001b[0m\u001b[0mnoun_adj_list\u001b[0m\u001b[1;33m)\u001b[0m\u001b[1;33m\u001b[0m\u001b[1;33m\u001b[0m\u001b[0m\n",
      "\u001b[1;32m<ipython-input-40-79b17659112e>\u001b[0m in \u001b[0;36mlemmatize\u001b[1;34m(word)\u001b[0m\n\u001b[0;32m      4\u001b[0m \u001b[1;33m\u001b[0m\u001b[0m\n\u001b[0;32m      5\u001b[0m \u001b[1;32mdef\u001b[0m \u001b[0mlemmatize\u001b[0m\u001b[1;33m(\u001b[0m\u001b[0mword\u001b[0m\u001b[1;33m)\u001b[0m\u001b[1;33m:\u001b[0m\u001b[1;33m\u001b[0m\u001b[1;33m\u001b[0m\u001b[0m\n\u001b[1;32m----> 6\u001b[1;33m     \u001b[0mmorphtags\u001b[0m \u001b[1;33m=\u001b[0m \u001b[0mKomoran\u001b[0m\u001b[1;33m(\u001b[0m\u001b[1;33m)\u001b[0m\u001b[1;33m.\u001b[0m\u001b[0mpos\u001b[0m\u001b[1;33m(\u001b[0m\u001b[0mword\u001b[0m\u001b[1;33m)\u001b[0m\u001b[1;33m\u001b[0m\u001b[1;33m\u001b[0m\u001b[0m\n\u001b[0m\u001b[0;32m      7\u001b[0m     \u001b[1;32mif\u001b[0m \u001b[0mmorphtags\u001b[0m\u001b[1;33m[\u001b[0m\u001b[1;36m0\u001b[0m\u001b[1;33m]\u001b[0m\u001b[1;33m[\u001b[0m\u001b[1;36m1\u001b[0m\u001b[1;33m]\u001b[0m \u001b[1;33m==\u001b[0m \u001b[1;34m'NNG'\u001b[0m \u001b[1;32mor\u001b[0m \u001b[0mmorphtags\u001b[0m\u001b[1;33m[\u001b[0m\u001b[1;36m0\u001b[0m\u001b[1;33m]\u001b[0m\u001b[1;33m[\u001b[0m\u001b[1;36m1\u001b[0m\u001b[1;33m]\u001b[0m \u001b[1;33m==\u001b[0m \u001b[1;34m'NNP'\u001b[0m\u001b[1;33m:\u001b[0m\u001b[1;33m\u001b[0m\u001b[1;33m\u001b[0m\u001b[0m\n\u001b[0;32m      8\u001b[0m         \u001b[1;32mreturn\u001b[0m \u001b[0mmorphtags\u001b[0m\u001b[1;33m[\u001b[0m\u001b[1;36m0\u001b[0m\u001b[1;33m]\u001b[0m\u001b[1;33m[\u001b[0m\u001b[1;36m0\u001b[0m\u001b[1;33m]\u001b[0m\u001b[1;33m\u001b[0m\u001b[1;33m\u001b[0m\u001b[0m\n",
      "\u001b[1;32m~\\anaconda3\\envs\\deep\\lib\\site-packages\\konlpy\\tag\\_komoran.py\u001b[0m in \u001b[0;36mpos\u001b[1;34m(self, phrase, flatten, join)\u001b[0m\n\u001b[0;32m     90\u001b[0m             \u001b[1;32mif\u001b[0m \u001b[1;32mnot\u001b[0m \u001b[0msentence\u001b[0m\u001b[1;33m:\u001b[0m\u001b[1;33m\u001b[0m\u001b[1;33m\u001b[0m\u001b[0m\n\u001b[0;32m     91\u001b[0m                 \u001b[1;32mcontinue\u001b[0m\u001b[1;33m\u001b[0m\u001b[1;33m\u001b[0m\u001b[0m\n\u001b[1;32m---> 92\u001b[1;33m             \u001b[0mresult\u001b[0m \u001b[1;33m=\u001b[0m \u001b[0mself\u001b[0m\u001b[1;33m.\u001b[0m\u001b[0mjki\u001b[0m\u001b[1;33m.\u001b[0m\u001b[0manalyze\u001b[0m\u001b[1;33m(\u001b[0m\u001b[0msentence\u001b[0m\u001b[1;33m)\u001b[0m\u001b[1;33m.\u001b[0m\u001b[0mgetTokenList\u001b[0m\u001b[1;33m(\u001b[0m\u001b[1;33m)\u001b[0m\u001b[1;33m\u001b[0m\u001b[1;33m\u001b[0m\u001b[0m\n\u001b[0m\u001b[0;32m     93\u001b[0m             \u001b[0mresult\u001b[0m \u001b[1;33m=\u001b[0m \u001b[1;33m[\u001b[0m\u001b[1;33m(\u001b[0m\u001b[0mtoken\u001b[0m\u001b[1;33m.\u001b[0m\u001b[0mgetMorph\u001b[0m\u001b[1;33m(\u001b[0m\u001b[1;33m)\u001b[0m\u001b[1;33m,\u001b[0m \u001b[0mtoken\u001b[0m\u001b[1;33m.\u001b[0m\u001b[0mgetPos\u001b[0m\u001b[1;33m(\u001b[0m\u001b[1;33m)\u001b[0m\u001b[1;33m)\u001b[0m \u001b[1;32mfor\u001b[0m \u001b[0mtoken\u001b[0m \u001b[1;32min\u001b[0m \u001b[0mresult\u001b[0m\u001b[1;33m]\u001b[0m\u001b[1;33m\u001b[0m\u001b[1;33m\u001b[0m\u001b[0m\n\u001b[0;32m     94\u001b[0m \u001b[1;33m\u001b[0m\u001b[0m\n",
      "\u001b[1;31mKeyboardInterrupt\u001b[0m: "
     ]
    }
   ],
   "source": [
    "#  형태소 분류\n",
    "noun_adj_list=[]\n",
    "for i1 in sentences_tag:\n",
    "    for word, tag in i1:\n",
    "        if tag in ['Noun','Verb','Number','Adjective','Adverb']:\n",
    "            noun_adj_list.append(word)\n",
    "# print(noun_adj_list)\n",
    "# 형태소 분류\n",
    "for i in range(len(noun_adj_list)):\n",
    "    #print(lemmatize(noun_adj_list[i]))\n",
    "    if lemmatize(noun_adj_list[i]) != None :\n",
    "        noun_adj_list[i] = lemmatize(noun_adj_list[i])\n",
    "        print(noun_adj_list)\n",
    "\n",
    "arr_list = noun_adj_list"
   ]
  },
  {
   "cell_type": "code",
   "execution_count": 48,
   "id": "c8fb19b7",
   "metadata": {},
   "outputs": [
    {
     "data": {
      "text/plain": [
       "{'100',\n",
       " '가다',\n",
       " '가져오다',\n",
       " '가지',\n",
       " '각각',\n",
       " '각자',\n",
       " '간단하다',\n",
       " '값',\n",
       " '갖다',\n",
       " '같다',\n",
       " '개체',\n",
       " '객체',\n",
       " '것',\n",
       " '게',\n",
       " '경우',\n",
       " '고',\n",
       " '고유',\n",
       " '공간',\n",
       " '구분',\n",
       " '그',\n",
       " '그때',\n",
       " '그래서',\n",
       " '내',\n",
       " '넣다',\n",
       " '늘다',\n",
       " '다루다',\n",
       " '다시',\n",
       " '다음',\n",
       " '대해',\n",
       " '데이터',\n",
       " '되다',\n",
       " '되어다',\n",
       " '들어가다',\n",
       " '들어서다',\n",
       " '때',\n",
       " '또는',\n",
       " '뜻',\n",
       " '로',\n",
       " '리다',\n",
       " '만들다',\n",
       " '말',\n",
       " '메모리',\n",
       " '명',\n",
       " '모든',\n",
       " '문자',\n",
       " '바로',\n",
       " '박스',\n",
       " '백',\n",
       " '변수',\n",
       " '보다',\n",
       " '부르다',\n",
       " '부적',\n",
       " '부터',\n",
       " '붙다',\n",
       " '붙이',\n",
       " '빨갛다',\n",
       " '생기',\n",
       " '서',\n",
       " '설명',\n",
       " '수가',\n",
       " '수치',\n",
       " '수행',\n",
       " '숫자',\n",
       " '식',\n",
       " '실수',\n",
       " '씩',\n",
       " '아니다',\n",
       " '아래',\n",
       " '어떻다',\n",
       " '에이',\n",
       " '여기',\n",
       " '예',\n",
       " '예제',\n",
       " '오다',\n",
       " '올라가다',\n",
       " '우리',\n",
       " '위',\n",
       " '유형',\n",
       " '이름',\n",
       " '이야기',\n",
       " '이용',\n",
       " '인',\n",
       " '일',\n",
       " '일어나다',\n",
       " '입력',\n",
       " '있다',\n",
       " '자료',\n",
       " '자료형',\n",
       " '저장',\n",
       " '적다',\n",
       " '접근',\n",
       " '정수',\n",
       " '주다',\n",
       " '즉',\n",
       " '통해',\n",
       " '파이썬',\n",
       " '프로그램',\n",
       " '하나',\n",
       " '하다',\n",
       " '해해'}"
      ]
     },
     "execution_count": 48,
     "metadata": {},
     "output_type": "execute_result"
    }
   ],
   "source": [
    "sen = ['입력', '되다', '데이터', '숫자', '인', '경우', '수치',\n",
    " '데이터', '하다', '문자', '인', '경우', '문자', '데이터', '하다', '다시', '말', '하다', \n",
    " '입력', '되다', '데이터', '각자', '데이터', '유형', '갖다', '되다', '것', '자료형', '하다',\n",
    " '프로그램', '수행', '하다', '그', '프로그램', '다루다', '모든', '데이터', '메모리', '위', \n",
    " '저장', '되어다', '하다', '하다', '그때', '어떻다', '식', '저장', '되다', '대해', '서', '설명',\n",
    " '하다', '메모리', '저장', '되다', '자료', '우리', '객체', '부르다', '모든', '객체', '자료형',\n",
    " '갖다', '수치', '자료', '경우', '정수', '실수', '로', '구분', '하다', '또는', '문자', '데이터', \n",
    " '올라가다', '하다', '그래서', '각각', '대해', '서', '우리', '자료', '갖다', '붙이', '게', '되다', \n",
    " '모든', '개체', '고유', '갖다', '하다', '객체', '저장', '하다', '공간', '변수', '하다', '그', '공간',\n",
    " '이름', '변수', '명', '하다', '그', '이름', '통해', '서', '객체', '접근', '하다', '수가', '있다', \n",
    " '간단하다', '아래', '객체', '변수', '해해', '보다', '하다', '데이터', '만들다', '즉', '객체', \n",
    " '만들다', '파이썬', '어떻다', '이름', '하다', '값', '적다', '주다', '하다', '예', '들어서다', \n",
    " '에이', '100', '하다', '에이', '백', '갖다', '뜻', '늘다', '같다', '뜻', '아니다', '100', '값', \n",
    " '에이', '넣다', '이야기', '되다', '그래서', '100', '값', '에이', '들어가다', '되다', '때', '내', \n",
    " '부적', '일어나다', '일', '100', '데이터', '생기', '그', '100', '데이터', '객체', '부르다', \n",
    " '객체', '저장', '되다', '저장', '되다', '공간', '우리', '변수', '부르다', '리다', '빨갛다', \n",
    " '박스', '바로', '변수', '되다', '변수', '이름', '하나', '씩', '가다', '붙다', '되다', '그', \n",
    " '이름', '변수', '명', '하다', '여기', '변수', '명', '가다', '붙다', '예제', '그래서', '다음', \n",
    " '부터', '100', '데이터', '가지', '고', '오다', '변수', '명', '에이', '이용', '하다', '가져오다', '되다']\n",
    "set(sen) # unique 중복제거 -> list를 set 형식 변환 "
   ]
  },
  {
   "cell_type": "code",
   "execution_count": null,
   "id": "fc52a101",
   "metadata": {},
   "outputs": [],
   "source": []
  },
  {
   "cell_type": "code",
   "execution_count": null,
   "id": "be467067",
   "metadata": {},
   "outputs": [],
   "source": []
  },
  {
   "cell_type": "code",
   "execution_count": null,
   "id": "02cb97d2",
   "metadata": {},
   "outputs": [],
   "source": []
  },
  {
   "cell_type": "code",
   "execution_count": null,
   "id": "27311200",
   "metadata": {},
   "outputs": [],
   "source": []
  },
  {
   "cell_type": "code",
   "execution_count": null,
   "id": "06f7ac44",
   "metadata": {},
   "outputs": [],
   "source": []
  },
  {
   "cell_type": "code",
   "execution_count": null,
   "id": "3ddecafa",
   "metadata": {},
   "outputs": [],
   "source": []
  },
  {
   "cell_type": "code",
   "execution_count": null,
   "id": "fdf326d5",
   "metadata": {},
   "outputs": [],
   "source": []
  }
 ],
 "metadata": {
  "kernelspec": {
   "display_name": "Python 3",
   "language": "python",
   "name": "python3"
  },
  "language_info": {
   "codemirror_mode": {
    "name": "ipython",
    "version": 3
   },
   "file_extension": ".py",
   "mimetype": "text/x-python",
   "name": "python",
   "nbconvert_exporter": "python",
   "pygments_lexer": "ipython3",
   "version": "3.6.13"
  }
 },
 "nbformat": 4,
 "nbformat_minor": 5
}
